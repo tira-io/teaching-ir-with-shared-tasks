{
 "cells": [
  {
   "cell_type": "markdown",
   "id": "8c3da078-f7fc-4d37-904c-532bb26d4321",
   "metadata": {},
   "source": [
    "# BM25 Retrieval on Multiple Fields in PyTerrier\n",
    "\n",
    "This Jupyter notebook implements retrieval using multiple fields by combining the scores on multiple fields in a \"dummy\" way.\n",
    "\n",
    "This might serve as starting point or inspiration for feature-based learning-to-rank approaches.\n",
    "\n",
    "The notebook itself is a bit more condensed.\n",
    "For a more detailed notebook, please look at [pyterrier-bm25.ipynb](pyterrier-bm25.ipynb)."
   ]
  },
  {
   "cell_type": "markdown",
   "id": "66fd2911-c97a-4f91-af28-8c7e381573b6",
   "metadata": {},
   "source": [
    "### Step 1: Import everything and load variables"
   ]
  },
  {
   "cell_type": "code",
   "execution_count": 2,
   "id": "7ae3c54f-aba1-45bf-b074-e78a99f6405f",
   "metadata": {},
   "outputs": [
    {
     "name": "stdout",
     "output_type": "stream",
     "text": [
      "I will use a small hardcoded example located in ./iranthology-dataset-tira.\n",
      "The output directory is /tmp/\n"
     ]
    }
   ],
   "source": [
    "import pyterrier as pt\n",
    "import pandas as pd\n",
    "from tira.third_party_integrations import ensure_pyterrier_is_loaded, get_input_directory_and_output_directory, persist_and_normalize_run\n",
    "import json\n",
    "from tqdm import tqdm\n",
    "\n",
    "ensure_pyterrier_is_loaded()\n",
    "input_directory, output_directory = get_input_directory_and_output_directory('./iranthology-dataset-tira')\n"
   ]
  },
  {
   "cell_type": "markdown",
   "id": "8c563b0e-97ac-44a2-ba2f-18858f1506bb",
   "metadata": {},
   "source": [
    "### Step 2: Load the Data"
   ]
  },
  {
   "cell_type": "code",
   "execution_count": 3,
   "id": "e35230af-66ec-4607-a97b-127bd890fa59",
   "metadata": {},
   "outputs": [
    {
     "name": "stdout",
     "output_type": "stream",
     "text": [
      "Step 2: Load the data.\n",
      "We look at the first document:\n",
      "\n",
      "{'docno': '2019.sigirconf_workshop-2019birndl.0', 'text': 'Proceedings of the 4th Joint Workshop on Bibliometric-enhanced Information Retrieval and Natural Language Processing for Digital Libraries (BIRNDL 2019) co-located with the 42nd International ACM SIGIR Conference on Research and Development in Information Retrieval (SIGIR 2019), Paris, France, July 25, 2019 ', 'title': 'Proceedings of the 4th Joint Workshop on Bibliometric-enhanced Information Retrieval and Natural Language Processing for Digital Libraries (BIRNDL 2019) co-located with the 42nd International ACM SIGIR Conference on Research and Development in Information Retrieval (SIGIR 2019), Paris, France, July 25, 2019', 'abstract': ''}\n"
     ]
    }
   ],
   "source": [
    "print('Step 2: Load the data.')\n",
    "\n",
    "queries = pt.io.read_topics(input_directory + '/queries.xml', format='trecxml')\n",
    "\n",
    "documents = [json.loads(i) for i in open(input_directory + '/documents.jsonl', 'r')]\n",
    "documents = [{'docno': i['docno'], 'text': i['text'], 'title': i['original_document']['title'], 'abstract': i['original_document']['abstract']} for i in documents]\n",
    "\n",
    "print('We look at the first document:\\n')\n",
    "print(documents[0])"
   ]
  },
  {
   "cell_type": "markdown",
   "id": "72655916-07fe-4c58-82c1-2f9f93381e7f",
   "metadata": {},
   "source": [
    "### Step 3: Create the Index"
   ]
  },
  {
   "cell_type": "code",
   "execution_count": 4,
   "id": "05ce062d-25e4-4c61-b6ce-9431b9f2bbd4",
   "metadata": {},
   "outputs": [
    {
     "name": "stdout",
     "output_type": "stream",
     "text": [
      "Step 3: Create the Index.\n"
     ]
    },
    {
     "name": "stderr",
     "output_type": "stream",
     "text": [
      " 31%|███████████████████████████████▏                                                                     | 16560/53673 [00:08<00:10, 3486.71it/s]"
     ]
    },
    {
     "name": "stdout",
     "output_type": "stream",
     "text": [
      "06:06:16.598 [ForkJoinPool-1-worker-3] WARN org.terrier.structures.indexing.Indexer - Adding an empty document to the index (2020.mir_conference-2020.1) - further warnings are suppressed\n"
     ]
    },
    {
     "name": "stderr",
     "output_type": "stream",
     "text": [
      "100%|█████████████████████████████████████████████████████████████████████████████████████████████████████| 53673/53673 [00:19<00:00, 2717.15it/s]\n"
     ]
    },
    {
     "name": "stdout",
     "output_type": "stream",
     "text": [
      "06:06:29.865 [ForkJoinPool-1-worker-3] WARN org.terrier.structures.indexing.Indexer - Indexed 3 empty documents\n"
     ]
    }
   ],
   "source": [
    "print('Step 3: Create the Index.')\n",
    "\n",
    "!rm -Rf ./index\n",
    "iter_indexer = pt.IterDictIndexer(\"./index\", meta={'docno' : 100, 'title': 10240, 'abstract': 10240, 'text': 10240}, blocks=True)\n",
    "index_ref = iter_indexer.index(tqdm(documents))"
   ]
  },
  {
   "cell_type": "markdown",
   "id": "806c4638-ccee-4470-a74c-2a85d9ee2cfc",
   "metadata": {},
   "source": [
    "### Step 4: Create Retrieval Pipeline"
   ]
  },
  {
   "cell_type": "code",
   "execution_count": 5,
   "id": "642259bc",
   "metadata": {},
   "outputs": [],
   "source": [
    "bm25 = pt.BatchRetrieve(index_ref, wmodel=\"BM25\", verbose=True, metadata=['docno', 'text', 'title', 'abstract'])\n",
    "\n",
    "bm25_title = pt.text.scorer(body_attr=\"title\", wmodel=\"BM25\")\n",
    "bm25_abstract = pt.text.scorer(body_attr=\"abstract\", wmodel=\"BM25\")\n",
    "bm25_text = pt.text.scorer(body_attr=\"text\", wmodel=\"BM25\")\n",
    "\n",
    "\n",
    "# Here some \"random\" ranking formula that puts the highest weight on the title and\n",
    "# reduces the weight of matches on the text field\n",
    "# Here is big potential for improvements :)\n",
    "combined_bm25_score = ((2*bm25_title) + (1*bm25_abstract) + (0.5*bm25_text))\n",
    "\n",
    "\n",
    "dph_title = pt.text.scorer(body_attr=\"title\", wmodel=\"DPH\")\n",
    "dph_abstract = pt.text.scorer(body_attr=\"abstract\", wmodel=\"DPH\")\n",
    "dph_text = pt.text.scorer(body_attr=\"text\", wmodel=\"DPH\")\n",
    "\n",
    "# Here some \"random\" ranking formula that puts the highest weight on the title and\n",
    "# reduces the weight of matches on the text field\n",
    "# Here is big potential for improvements :)\n",
    "combined_dph_score = ((2*dph_title) + (1*dph_abstract) + (0.5*dph_text))\n",
    "\n",
    "# The overall Pipeline: We retrieve the top-1000 results from BM25 that we re-rank using the combined BM25 and DPH scores.\n",
    "# We just add the scores of BM25 and DPH\n",
    "# Here is big potential for improvements :)\n",
    "retrieval_pipeline = bm25 %1000 >> combined_bm25_score + combined_dph_score"
   ]
  },
  {
   "cell_type": "code",
   "execution_count": 6,
   "id": "55cda8d1",
   "metadata": {},
   "outputs": [
    {
     "name": "stdout",
     "output_type": "stream",
     "text": [
      "We show the first ten query document pairs after BM25 retrieval to show what fields we have added:\n"
     ]
    },
    {
     "name": "stderr",
     "output_type": "stream",
     "text": [
      "BR(BM25): 100%|██████████████████████████████████████████████████████████████████████████████████████████████████████| 1/1 [00:00<00:00,  1.10q/s]\n"
     ]
    },
    {
     "data": {
      "text/html": [
       "<div>\n",
       "<style scoped>\n",
       "    .dataframe tbody tr th:only-of-type {\n",
       "        vertical-align: middle;\n",
       "    }\n",
       "\n",
       "    .dataframe tbody tr th {\n",
       "        vertical-align: top;\n",
       "    }\n",
       "\n",
       "    .dataframe thead th {\n",
       "        text-align: right;\n",
       "    }\n",
       "</style>\n",
       "<table border=\"1\" class=\"dataframe\">\n",
       "  <thead>\n",
       "    <tr style=\"text-align: right;\">\n",
       "      <th></th>\n",
       "      <th>qid</th>\n",
       "      <th>docid</th>\n",
       "      <th>docno</th>\n",
       "      <th>text</th>\n",
       "      <th>title</th>\n",
       "      <th>abstract</th>\n",
       "      <th>rank</th>\n",
       "      <th>score</th>\n",
       "      <th>query</th>\n",
       "    </tr>\n",
       "  </thead>\n",
       "  <tbody>\n",
       "    <tr>\n",
       "      <th>0</th>\n",
       "      <td>1</td>\n",
       "      <td>49659</td>\n",
       "      <td>2021.ipm_journal-ir0anthology0volumeA58A1.6</td>\n",
       "      <td>Detecting health misinformation in online heal...</td>\n",
       "      <td>Detecting health misinformation in online heal...</td>\n",
       "      <td></td>\n",
       "      <td>0</td>\n",
       "      <td>16.708093</td>\n",
       "      <td>detect health related queries</td>\n",
       "    </tr>\n",
       "    <tr>\n",
       "      <th>1</th>\n",
       "      <td>1</td>\n",
       "      <td>27490</td>\n",
       "      <td>2011.spire_conference-2011.10</td>\n",
       "      <td>Detecting Health Events on the Social Web to E...</td>\n",
       "      <td>Detecting Health Events on the Social Web to E...</td>\n",
       "      <td></td>\n",
       "      <td>1</td>\n",
       "      <td>15.699445</td>\n",
       "      <td>detect health related queries</td>\n",
       "    </tr>\n",
       "    <tr>\n",
       "      <th>2</th>\n",
       "      <td>1</td>\n",
       "      <td>19930</td>\n",
       "      <td>2019.cikm_conference-2019.346</td>\n",
       "      <td>Concept Drift Adaption for Online Anomaly Dete...</td>\n",
       "      <td>Concept Drift Adaption for Online Anomaly Dete...</td>\n",
       "      <td></td>\n",
       "      <td>2</td>\n",
       "      <td>15.507586</td>\n",
       "      <td>detect health related queries</td>\n",
       "    </tr>\n",
       "    <tr>\n",
       "      <th>3</th>\n",
       "      <td>1</td>\n",
       "      <td>39429</td>\n",
       "      <td>2021.tist_journal-ir0anthology0volumeA12A2.4</td>\n",
       "      <td>Indirectly Supervised Anomaly Detection of Cli...</td>\n",
       "      <td>Indirectly Supervised Anomaly Detection of Cli...</td>\n",
       "      <td></td>\n",
       "      <td>3</td>\n",
       "      <td>15.137599</td>\n",
       "      <td>detect health related queries</td>\n",
       "    </tr>\n",
       "    <tr>\n",
       "      <th>4</th>\n",
       "      <td>1</td>\n",
       "      <td>33009</td>\n",
       "      <td>2013.wwwconf_conference-2013c.302</td>\n",
       "      <td>From health-persona to societal health ABSTRAC...</td>\n",
       "      <td>From health-persona to societal health</td>\n",
       "      <td>ABSTRACTIn this position paper, we propose an ...</td>\n",
       "      <td>4</td>\n",
       "      <td>14.881860</td>\n",
       "      <td>detect health related queries</td>\n",
       "    </tr>\n",
       "  </tbody>\n",
       "</table>\n",
       "</div>"
      ],
      "text/plain": [
       "  qid  docid                                         docno  \\\n",
       "0   1  49659   2021.ipm_journal-ir0anthology0volumeA58A1.6   \n",
       "1   1  27490                 2011.spire_conference-2011.10   \n",
       "2   1  19930                 2019.cikm_conference-2019.346   \n",
       "3   1  39429  2021.tist_journal-ir0anthology0volumeA12A2.4   \n",
       "4   1  33009             2013.wwwconf_conference-2013c.302   \n",
       "\n",
       "                                                text  \\\n",
       "0  Detecting health misinformation in online heal...   \n",
       "1  Detecting Health Events on the Social Web to E...   \n",
       "2  Concept Drift Adaption for Online Anomaly Dete...   \n",
       "3  Indirectly Supervised Anomaly Detection of Cli...   \n",
       "4  From health-persona to societal health ABSTRAC...   \n",
       "\n",
       "                                               title  \\\n",
       "0  Detecting health misinformation in online heal...   \n",
       "1  Detecting Health Events on the Social Web to E...   \n",
       "2  Concept Drift Adaption for Online Anomaly Dete...   \n",
       "3  Indirectly Supervised Anomaly Detection of Cli...   \n",
       "4             From health-persona to societal health   \n",
       "\n",
       "                                            abstract  rank      score  \\\n",
       "0                                                        0  16.708093   \n",
       "1                                                        1  15.699445   \n",
       "2                                                        2  15.507586   \n",
       "3                                                        3  15.137599   \n",
       "4  ABSTRACTIn this position paper, we propose an ...     4  14.881860   \n",
       "\n",
       "                            query  \n",
       "0   detect health related queries  \n",
       "1   detect health related queries  \n",
       "2   detect health related queries  \n",
       "3   detect health related queries  \n",
       "4   detect health related queries  "
      ]
     },
     "execution_count": 6,
     "metadata": {},
     "output_type": "execute_result"
    }
   ],
   "source": [
    "print('We show the first ten query document pairs after BM25 retrieval to show what fields we have added:')\n",
    "run = bm25(queries[:1])\n",
    "run.head(5)"
   ]
  },
  {
   "cell_type": "markdown",
   "id": "5cb6607b",
   "metadata": {},
   "source": [
    "### Step 5: Create the run"
   ]
  },
  {
   "cell_type": "code",
   "execution_count": 7,
   "id": "a191f396-e896-4792-afaf-574e452640f5",
   "metadata": {},
   "outputs": [
    {
     "name": "stdout",
     "output_type": "stream",
     "text": [
      "Step 5: Create Run.\n"
     ]
    },
    {
     "name": "stderr",
     "output_type": "stream",
     "text": [
      "BR(BM25): 100%|██████████████████████████████████████████████████████████████████████████████████████████████████████| 4/4 [00:02<00:00,  1.91q/s]\n"
     ]
    },
    {
     "name": "stdout",
     "output_type": "stream",
     "text": [
      "06:06:44.588 [main] WARN org.terrier.querying.ApplyTermPipeline - The index has no termpipelines configuration, and no control configuration is found. Defaulting to global termpipelines configuration of 'Stopwords,PorterStemmer'. Set a termpipelines control to remove this warning.\n",
      "06:06:47.433 [main] WARN org.terrier.querying.ApplyTermPipeline - The index has no termpipelines configuration, and no control configuration is found. Defaulting to global termpipelines configuration of 'Stopwords,PorterStemmer'. Set a termpipelines control to remove this warning.\n",
      "06:06:50.431 [main] WARN org.terrier.querying.ApplyTermPipeline - The index has no termpipelines configuration, and no control configuration is found. Defaulting to global termpipelines configuration of 'Stopwords,PorterStemmer'. Set a termpipelines control to remove this warning.\n",
      "06:06:52.377 [main] WARN org.terrier.querying.ApplyTermPipeline - The index has no termpipelines configuration, and no control configuration is found. Defaulting to global termpipelines configuration of 'Stopwords,PorterStemmer'. Set a termpipelines control to remove this warning.\n",
      "06:06:55.251 [main] WARN org.terrier.querying.ApplyTermPipeline - The index has no termpipelines configuration, and no control configuration is found. Defaulting to global termpipelines configuration of 'Stopwords,PorterStemmer'. Set a termpipelines control to remove this warning.\n",
      "06:06:58.083 [main] WARN org.terrier.querying.ApplyTermPipeline - The index has no termpipelines configuration, and no control configuration is found. Defaulting to global termpipelines configuration of 'Stopwords,PorterStemmer'. Set a termpipelines control to remove this warning.\n"
     ]
    }
   ],
   "source": [
    "print('Step 5: Create Run.')\n",
    "\n",
    "run = retrieval_pipeline(queries)"
   ]
  },
  {
   "cell_type": "code",
   "execution_count": 8,
   "id": "c0e07fca-de98-4de2-b6a7-abfd516c652c",
   "metadata": {},
   "outputs": [
    {
     "name": "stdout",
     "output_type": "stream",
     "text": [
      "We look at the first 10 results of the run (query has ben expanded):\n",
      "\n"
     ]
    },
    {
     "data": {
      "text/html": [
       "<div>\n",
       "<style scoped>\n",
       "    .dataframe tbody tr th:only-of-type {\n",
       "        vertical-align: middle;\n",
       "    }\n",
       "\n",
       "    .dataframe tbody tr th {\n",
       "        vertical-align: top;\n",
       "    }\n",
       "\n",
       "    .dataframe thead th {\n",
       "        text-align: right;\n",
       "    }\n",
       "</style>\n",
       "<table border=\"1\" class=\"dataframe\">\n",
       "  <thead>\n",
       "    <tr style=\"text-align: right;\">\n",
       "      <th></th>\n",
       "      <th>qid</th>\n",
       "      <th>docid</th>\n",
       "      <th>docno</th>\n",
       "      <th>text</th>\n",
       "      <th>title</th>\n",
       "      <th>abstract</th>\n",
       "      <th>score</th>\n",
       "      <th>query</th>\n",
       "      <th>rank</th>\n",
       "    </tr>\n",
       "  </thead>\n",
       "  <tbody>\n",
       "    <tr>\n",
       "      <th>0</th>\n",
       "      <td>1</td>\n",
       "      <td>49659</td>\n",
       "      <td>2021.ipm_journal-ir0anthology0volumeA58A1.6</td>\n",
       "      <td>Detecting health misinformation in online heal...</td>\n",
       "      <td>Detecting health misinformation in online heal...</td>\n",
       "      <td></td>\n",
       "      <td>25.991802</td>\n",
       "      <td>detect health related queries</td>\n",
       "      <td>56</td>\n",
       "    </tr>\n",
       "    <tr>\n",
       "      <th>1</th>\n",
       "      <td>1</td>\n",
       "      <td>27490</td>\n",
       "      <td>2011.spire_conference-2011.10</td>\n",
       "      <td>Detecting Health Events on the Social Web to E...</td>\n",
       "      <td>Detecting Health Events on the Social Web to E...</td>\n",
       "      <td></td>\n",
       "      <td>25.015085</td>\n",
       "      <td>detect health related queries</td>\n",
       "      <td>64</td>\n",
       "    </tr>\n",
       "    <tr>\n",
       "      <th>2</th>\n",
       "      <td>1</td>\n",
       "      <td>19930</td>\n",
       "      <td>2019.cikm_conference-2019.346</td>\n",
       "      <td>Concept Drift Adaption for Online Anomaly Dete...</td>\n",
       "      <td>Concept Drift Adaption for Online Anomaly Dete...</td>\n",
       "      <td></td>\n",
       "      <td>24.333914</td>\n",
       "      <td>detect health related queries</td>\n",
       "      <td>71</td>\n",
       "    </tr>\n",
       "    <tr>\n",
       "      <th>3</th>\n",
       "      <td>1</td>\n",
       "      <td>39429</td>\n",
       "      <td>2021.tist_journal-ir0anthology0volumeA12A2.4</td>\n",
       "      <td>Indirectly Supervised Anomaly Detection of Cli...</td>\n",
       "      <td>Indirectly Supervised Anomaly Detection of Cli...</td>\n",
       "      <td></td>\n",
       "      <td>23.046158</td>\n",
       "      <td>detect health related queries</td>\n",
       "      <td>101</td>\n",
       "    </tr>\n",
       "    <tr>\n",
       "      <th>4</th>\n",
       "      <td>1</td>\n",
       "      <td>33009</td>\n",
       "      <td>2013.wwwconf_conference-2013c.302</td>\n",
       "      <td>From health-persona to societal health ABSTRAC...</td>\n",
       "      <td>From health-persona to societal health</td>\n",
       "      <td>ABSTRACTIn this position paper, we propose an ...</td>\n",
       "      <td>33.452691</td>\n",
       "      <td>detect health related queries</td>\n",
       "      <td>5</td>\n",
       "    </tr>\n",
       "    <tr>\n",
       "      <th>5</th>\n",
       "      <td>1</td>\n",
       "      <td>33172</td>\n",
       "      <td>2018.wwwconf_conference-2018.13</td>\n",
       "      <td>Did You Really Just Have a Heart Attack?: Towa...</td>\n",
       "      <td>Did You Really Just Have a Heart Attack?: Towa...</td>\n",
       "      <td>ABSTRACTMillions of users share their experien...</td>\n",
       "      <td>39.376744</td>\n",
       "      <td>detect health related queries</td>\n",
       "      <td>1</td>\n",
       "    </tr>\n",
       "    <tr>\n",
       "      <th>6</th>\n",
       "      <td>1</td>\n",
       "      <td>23061</td>\n",
       "      <td>2010.cikm_conference-2010.284</td>\n",
       "      <td>Unsupervised public health event detection for...</td>\n",
       "      <td>Unsupervised public health event detection for...</td>\n",
       "      <td>ABSTRACTRecent pandemics such as Swine Flu hav...</td>\n",
       "      <td>41.056776</td>\n",
       "      <td>detect health related queries</td>\n",
       "      <td>0</td>\n",
       "    </tr>\n",
       "    <tr>\n",
       "      <th>7</th>\n",
       "      <td>1</td>\n",
       "      <td>28878</td>\n",
       "      <td>2012.wwwconf_conference-2012c.37</td>\n",
       "      <td>Making use of social media data in public heal...</td>\n",
       "      <td>Making use of social media data in public health</td>\n",
       "      <td>ABSTRACTDisease surveillance systems exist to ...</td>\n",
       "      <td>32.582234</td>\n",
       "      <td>detect health related queries</td>\n",
       "      <td>7</td>\n",
       "    </tr>\n",
       "    <tr>\n",
       "      <th>8</th>\n",
       "      <td>1</td>\n",
       "      <td>14388</td>\n",
       "      <td>2016.fire_conference-2016w.51</td>\n",
       "      <td>Team DA_IICT at Consumer Health Information Se...</td>\n",
       "      <td>Team DA_IICT at Consumer Health Information Se...</td>\n",
       "      <td>Consumer Health Information Search task focuse...</td>\n",
       "      <td>27.562023</td>\n",
       "      <td>detect health related queries</td>\n",
       "      <td>39</td>\n",
       "    </tr>\n",
       "    <tr>\n",
       "      <th>9</th>\n",
       "      <td>1</td>\n",
       "      <td>13049</td>\n",
       "      <td>2020.clef_conference-2020w.101</td>\n",
       "      <td>LIG-Health at Adhoc and Spoken IR Consumer Hea...</td>\n",
       "      <td>LIG-Health at Adhoc and Spoken IR Consumer Hea...</td>\n",
       "      <td>This paper describes the work done by the LIG ...</td>\n",
       "      <td>33.311709</td>\n",
       "      <td>detect health related queries</td>\n",
       "      <td>6</td>\n",
       "    </tr>\n",
       "  </tbody>\n",
       "</table>\n",
       "</div>"
      ],
      "text/plain": [
       "  qid  docid                                         docno  \\\n",
       "0   1  49659   2021.ipm_journal-ir0anthology0volumeA58A1.6   \n",
       "1   1  27490                 2011.spire_conference-2011.10   \n",
       "2   1  19930                 2019.cikm_conference-2019.346   \n",
       "3   1  39429  2021.tist_journal-ir0anthology0volumeA12A2.4   \n",
       "4   1  33009             2013.wwwconf_conference-2013c.302   \n",
       "5   1  33172               2018.wwwconf_conference-2018.13   \n",
       "6   1  23061                 2010.cikm_conference-2010.284   \n",
       "7   1  28878              2012.wwwconf_conference-2012c.37   \n",
       "8   1  14388                 2016.fire_conference-2016w.51   \n",
       "9   1  13049                2020.clef_conference-2020w.101   \n",
       "\n",
       "                                                text  \\\n",
       "0  Detecting health misinformation in online heal...   \n",
       "1  Detecting Health Events on the Social Web to E...   \n",
       "2  Concept Drift Adaption for Online Anomaly Dete...   \n",
       "3  Indirectly Supervised Anomaly Detection of Cli...   \n",
       "4  From health-persona to societal health ABSTRAC...   \n",
       "5  Did You Really Just Have a Heart Attack?: Towa...   \n",
       "6  Unsupervised public health event detection for...   \n",
       "7  Making use of social media data in public heal...   \n",
       "8  Team DA_IICT at Consumer Health Information Se...   \n",
       "9  LIG-Health at Adhoc and Spoken IR Consumer Hea...   \n",
       "\n",
       "                                               title  \\\n",
       "0  Detecting health misinformation in online heal...   \n",
       "1  Detecting Health Events on the Social Web to E...   \n",
       "2  Concept Drift Adaption for Online Anomaly Dete...   \n",
       "3  Indirectly Supervised Anomaly Detection of Cli...   \n",
       "4             From health-persona to societal health   \n",
       "5  Did You Really Just Have a Heart Attack?: Towa...   \n",
       "6  Unsupervised public health event detection for...   \n",
       "7   Making use of social media data in public health   \n",
       "8  Team DA_IICT at Consumer Health Information Se...   \n",
       "9  LIG-Health at Adhoc and Spoken IR Consumer Hea...   \n",
       "\n",
       "                                            abstract      score  \\\n",
       "0                                                     25.991802   \n",
       "1                                                     25.015085   \n",
       "2                                                     24.333914   \n",
       "3                                                     23.046158   \n",
       "4  ABSTRACTIn this position paper, we propose an ...  33.452691   \n",
       "5  ABSTRACTMillions of users share their experien...  39.376744   \n",
       "6  ABSTRACTRecent pandemics such as Swine Flu hav...  41.056776   \n",
       "7  ABSTRACTDisease surveillance systems exist to ...  32.582234   \n",
       "8  Consumer Health Information Search task focuse...  27.562023   \n",
       "9  This paper describes the work done by the LIG ...  33.311709   \n",
       "\n",
       "                            query  rank  \n",
       "0   detect health related queries    56  \n",
       "1   detect health related queries    64  \n",
       "2   detect health related queries    71  \n",
       "3   detect health related queries   101  \n",
       "4   detect health related queries     5  \n",
       "5   detect health related queries     1  \n",
       "6   detect health related queries     0  \n",
       "7   detect health related queries     7  \n",
       "8   detect health related queries    39  \n",
       "9   detect health related queries     6  "
      ]
     },
     "execution_count": 8,
     "metadata": {},
     "output_type": "execute_result"
    }
   ],
   "source": [
    "print('We look at the first 10 results of the run (query has ben expanded):\\n')\n",
    "run.head(10)"
   ]
  },
  {
   "cell_type": "markdown",
   "id": "28c40a2e-0f96-4ae8-aa5e-55a5e7ef9dee",
   "metadata": {},
   "source": [
    "### Step 6: Persist Run"
   ]
  },
  {
   "cell_type": "code",
   "execution_count": 9,
   "id": "12e5bb42-ed1f-41ba-b7a5-cb43ebca96f6",
   "metadata": {},
   "outputs": [
    {
     "name": "stdout",
     "output_type": "stream",
     "text": [
      "Step 6: Persist Run.\n",
      "Done :)\n"
     ]
    }
   ],
   "source": [
    "print('Step 6: Persist Run.')\n",
    "\n",
    "persist_and_normalize_run(run, output_file=output_directory, system_name='multi-field', depth=1000)\n",
    "\n",
    "print('Done :)')"
   ]
  }
 ],
 "metadata": {
  "kernelspec": {
   "display_name": "Python 3 (ipykernel)",
   "language": "python",
   "name": "python3"
  },
  "language_info": {
   "codemirror_mode": {
    "name": "ipython",
    "version": 3
   },
   "file_extension": ".py",
   "mimetype": "text/x-python",
   "name": "python",
   "nbconvert_exporter": "python",
   "pygments_lexer": "ipython3",
   "version": "3.7.13"
  }
 },
 "nbformat": 4,
 "nbformat_minor": 5
}
