{
 "cells": [
  {
   "cell_type": "markdown",
   "metadata": {},
   "source": [
    "# Tutorial on Tuning Hyperparameters of Retrieval Systems\n",
    "\n",
    "This tutorial exemplifies hyperparameter tuning with PyTerrier and TrecTools.\n",
    "To make things a bit more explicit, we exhaustively evaluate a small grid of possible parameters for BM25.\n",
    "After you understand the concepts of this tutorial, please consider to switch to a dedicated API for tuning hyperparameters, e.g., [the official PyTerrier one](https://pyterrier.readthedocs.io/en/latest/tuning.html).\n",
    "\n",
    "**Attention:** This tutorial comes in two parts, where part 1 executes all configurations and part 2 does the actual search. Please skim only over part 1 (and do not execute it) if you do this tutorial for the first time and come back later if needed, as we prepared the results of part 2 via a download so that you directly can skip to part 2."
   ]
  },
  {
   "cell_type": "markdown",
   "metadata": {},
   "source": [
    "## Preparation: Install dependencies"
   ]
  },
  {
   "cell_type": "code",
   "execution_count": 1,
   "metadata": {},
   "outputs": [],
   "source": [
    "# This is only needed in Google Colab, in the dev container, everything should be installed already\n",
    "!pip3 install tira trectools python-terrier"
   ]
  },
  {
   "cell_type": "markdown",
   "metadata": {},
   "source": [
    "## Our Scenario\n",
    "\n",
    "We want to tune the hyperparameters of BM25 on the training and validation data of the [IR Lab of the winter semester Jena/Leipzig](https://www.tira.io/task-overview/ir-lab-jena-leipzig-wise-2023).\n",
    "\n",
    "First, we import all used dependencies:\n",
    "\n"
   ]
  },
  {
   "cell_type": "code",
   "execution_count": 2,
   "metadata": {},
   "outputs": [],
   "source": [
    "from tira.third_party_integrations import ir_datasets, ensure_pyterrier_is_loaded, persist_and_normalize_run\n",
    "import pyterrier as pt\n",
    "\n",
    "ensure_pyterrier_is_loaded()\n",
    "\n",
    "training_dataset = 'ir-lab-jena-leipzig-wise-2023/training-20231104-training'\n",
    "validation_dataset = 'ir-lab-jena-leipzig-wise-2023/validation-20231104-training'"
   ]
  },
  {
   "cell_type": "markdown",
   "metadata": {},
   "source": [
    "# Part 1: Run all Configurations of the Grid Search\n",
    "\n",
    "Running all configurations below takes roughly three hours (that is one advantage of dedicated APIs, they often offer parallelization). Therefore, please only skim over this first part if you do the tutorial for the first time, you can download the outputs of this grid search at the beginning of part 2 so that you directly can skip to part 2.\n",
    "\n",
    "Next, we implement two methods: (1) for indexing documents, and (2) for grid search method to exhaustively run a small grid of possible parameters for BM25. We will store all runs in a directory `grid-search/training` (for the training runs) respectively `grid-search/validation` (for the validation runs)."
   ]
  },
  {
   "cell_type": "code",
   "execution_count": 3,
   "metadata": {},
   "outputs": [],
   "source": [
    "def create_index(documents):\n",
    "    indexer = pt.IterDictIndexer(\"/tmp/index\", overwrite=True, meta={'docno': 100, 'text': 20480})\n",
    "    index_ref = indexer.index(({'docno': i.doc_id, 'text': i.text} for i in documents))\n",
    "    return pt.IndexFactory.of(index_ref)"
   ]
  },
  {
   "cell_type": "code",
   "execution_count": 4,
   "metadata": {},
   "outputs": [],
   "source": [
    "def run_bm25_grid_search_run(index, output_dir, queries):\n",
    "    \"\"\"\n",
    "        defaults: http://terrier.org/docs/current/javadoc/org/terrier/matching/models/BM25.html\n",
    "        k_1 = 1.2d, k_3 = 8d, b = 0.75d\n",
    "        We do not tune parameter k_3, as this parameter only impacts queries with reduntant terms.\n",
    "    \"\"\"\n",
    "    for b in [0.7, 0.75, 0.8]:\n",
    "        for k_1 in [1.1, 1.2, 1.3]:\n",
    "            system = f'bm25-b={b}-k_1={k_1}'\n",
    "            configuration = {\"bm25.b\" : b, \"bm25.k_1\": k_1}\n",
    "            run_output_dir = output_dir + '/' + system\n",
    "            !rm -Rf {run_output_dir}\n",
    "            !mkdir -p {run_output_dir}\n",
    "            print(f'Run {system}')\n",
    "            BM25 = pt.BatchRetrieve(index, wmodel=\"BM25\", controls=configuration, verbose=True)\n",
    "            run = BM25(queries)\n",
    "            persist_and_normalize_run(run, system, run_output_dir)"
   ]
  },
  {
   "cell_type": "markdown",
   "metadata": {},
   "source": [
    "## Run All Configurations on the Training Data\n",
    "\n",
    "First, we load the training dataset and index the documents, then we run our `run_bm25_grid_search_run`."
   ]
  },
  {
   "cell_type": "code",
   "execution_count": 5,
   "metadata": {},
   "outputs": [
    {
     "name": "stdout",
     "output_type": "stream",
     "text": [
      "Load ir_dataset \"ir-lab-jena-leipzig-wise-2023/training-20231104-training\" from tira.\n",
      "No settings given in /root/.tira/.tira-settings.json. I will use defaults.\n"
     ]
    },
    {
     "data": {
      "text/html": [
       "<div>\n",
       "<style scoped>\n",
       "    .dataframe tbody tr th:only-of-type {\n",
       "        vertical-align: middle;\n",
       "    }\n",
       "\n",
       "    .dataframe tbody tr th {\n",
       "        vertical-align: top;\n",
       "    }\n",
       "\n",
       "    .dataframe thead th {\n",
       "        text-align: right;\n",
       "    }\n",
       "</style>\n",
       "<table border=\"1\" class=\"dataframe\">\n",
       "  <thead>\n",
       "    <tr style=\"text-align: right;\">\n",
       "      <th></th>\n",
       "      <th>qid</th>\n",
       "      <th>query</th>\n",
       "    </tr>\n",
       "  </thead>\n",
       "  <tbody>\n",
       "    <tr>\n",
       "      <th>0</th>\n",
       "      <td>q06223196</td>\n",
       "      <td>car shelter</td>\n",
       "    </tr>\n",
       "    <tr>\n",
       "      <th>1</th>\n",
       "      <td>q062228</td>\n",
       "      <td>airport</td>\n",
       "    </tr>\n",
       "    <tr>\n",
       "      <th>2</th>\n",
       "      <td>q062287</td>\n",
       "      <td>antivirus comparison</td>\n",
       "    </tr>\n",
       "  </tbody>\n",
       "</table>\n",
       "</div>"
      ],
      "text/plain": [
       "         qid                  query\n",
       "0  q06223196            car shelter\n",
       "1    q062228                airport\n",
       "2    q062287   antivirus comparison"
      ]
     },
     "execution_count": 5,
     "metadata": {},
     "output_type": "execute_result"
    }
   ],
   "source": [
    "dataset = ir_datasets.load(training_dataset)\n",
    "queries = pt.io.read_topics(ir_datasets.topics_file(training_dataset), format='trecxml')\n",
    "\n",
    "queries.head(3)"
   ]
  },
  {
   "cell_type": "code",
   "execution_count": 6,
   "metadata": {},
   "outputs": [
    {
     "name": "stdout",
     "output_type": "stream",
     "text": [
      "No settings given in /root/.tira/.tira-settings.json. I will use defaults.\n"
     ]
    }
   ],
   "source": [
    "index = create_index(dataset.docs_iter())"
   ]
  },
  {
   "cell_type": "code",
   "execution_count": 7,
   "metadata": {},
   "outputs": [
    {
     "name": "stdout",
     "output_type": "stream",
     "text": [
      "Run bm25-b=0.7-k_1=1.1\n"
     ]
    },
    {
     "name": "stderr",
     "output_type": "stream",
     "text": [
      "BR(BM25): 100%|██████████| 672/672 [07:49<00:00,  1.43q/s]\n"
     ]
    },
    {
     "name": "stdout",
     "output_type": "stream",
     "text": [
      "Done. run file is stored under \"grid-search/training/bm25-b=0.7-k_1=1.1/run.txt\".\n",
      "Run bm25-b=0.7-k_1=1.2\n"
     ]
    },
    {
     "name": "stderr",
     "output_type": "stream",
     "text": [
      "BR(BM25): 100%|██████████| 672/672 [08:39<00:00,  1.29q/s]\n"
     ]
    },
    {
     "name": "stdout",
     "output_type": "stream",
     "text": [
      "Done. run file is stored under \"grid-search/training/bm25-b=0.7-k_1=1.2/run.txt\".\n",
      "Run bm25-b=0.7-k_1=1.3\n"
     ]
    },
    {
     "name": "stderr",
     "output_type": "stream",
     "text": [
      "BR(BM25): 100%|██████████| 672/672 [09:02<00:00,  1.24q/s]\n"
     ]
    },
    {
     "name": "stdout",
     "output_type": "stream",
     "text": [
      "Done. run file is stored under \"grid-search/training/bm25-b=0.7-k_1=1.3/run.txt\".\n",
      "Run bm25-b=0.75-k_1=1.1\n"
     ]
    },
    {
     "name": "stderr",
     "output_type": "stream",
     "text": [
      "BR(BM25): 100%|██████████| 672/672 [09:07<00:00,  1.23q/s]\n"
     ]
    },
    {
     "name": "stdout",
     "output_type": "stream",
     "text": [
      "Done. run file is stored under \"grid-search/training/bm25-b=0.75-k_1=1.1/run.txt\".\n",
      "Run bm25-b=0.75-k_1=1.2\n"
     ]
    },
    {
     "name": "stderr",
     "output_type": "stream",
     "text": [
      "BR(BM25): 100%|██████████| 672/672 [10:00<00:00,  1.12q/s]\n"
     ]
    },
    {
     "name": "stdout",
     "output_type": "stream",
     "text": [
      "Done. run file is stored under \"grid-search/training/bm25-b=0.75-k_1=1.2/run.txt\".\n",
      "Run bm25-b=0.75-k_1=1.3\n"
     ]
    },
    {
     "name": "stderr",
     "output_type": "stream",
     "text": [
      "BR(BM25): 100%|██████████| 672/672 [09:13<00:00,  1.21q/s]\n"
     ]
    },
    {
     "name": "stdout",
     "output_type": "stream",
     "text": [
      "Done. run file is stored under \"grid-search/training/bm25-b=0.75-k_1=1.3/run.txt\".\n",
      "Run bm25-b=0.8-k_1=1.1\n"
     ]
    },
    {
     "name": "stderr",
     "output_type": "stream",
     "text": [
      "BR(BM25): 100%|██████████| 672/672 [08:55<00:00,  1.26q/s]\n"
     ]
    },
    {
     "name": "stdout",
     "output_type": "stream",
     "text": [
      "Done. run file is stored under \"grid-search/training/bm25-b=0.8-k_1=1.1/run.txt\".\n",
      "Run bm25-b=0.8-k_1=1.2\n"
     ]
    },
    {
     "name": "stderr",
     "output_type": "stream",
     "text": [
      "BR(BM25): 100%|██████████| 672/672 [08:34<00:00,  1.31q/s]\n"
     ]
    },
    {
     "name": "stdout",
     "output_type": "stream",
     "text": [
      "Done. run file is stored under \"grid-search/training/bm25-b=0.8-k_1=1.2/run.txt\".\n",
      "Run bm25-b=0.8-k_1=1.3\n"
     ]
    },
    {
     "name": "stderr",
     "output_type": "stream",
     "text": [
      "BR(BM25): 100%|██████████| 672/672 [07:48<00:00,  1.44q/s]\n"
     ]
    },
    {
     "name": "stdout",
     "output_type": "stream",
     "text": [
      "Done. run file is stored under \"grid-search/training/bm25-b=0.8-k_1=1.3/run.txt\".\n"
     ]
    }
   ],
   "source": [
    "run_bm25_grid_search_run(index, 'grid-search/training', queries)"
   ]
  },
  {
   "cell_type": "markdown",
   "metadata": {},
   "source": [
    "## Run All Configurations on the Validation Data\n",
    "\n",
    "Second, we load the validation dataset and index the documents, then we run our `run_bm25_grid_search_run`."
   ]
  },
  {
   "cell_type": "code",
   "execution_count": 5,
   "metadata": {},
   "outputs": [
    {
     "name": "stdout",
     "output_type": "stream",
     "text": [
      "Load ir_dataset \"ir-lab-jena-leipzig-wise-2023/validation-20231104-training\" from tira.\n",
      "No settings given in /root/.tira/.tira-settings.json. I will use defaults.\n"
     ]
    },
    {
     "data": {
      "text/html": [
       "<div>\n",
       "<style scoped>\n",
       "    .dataframe tbody tr th:only-of-type {\n",
       "        vertical-align: middle;\n",
       "    }\n",
       "\n",
       "    .dataframe tbody tr th {\n",
       "        vertical-align: top;\n",
       "    }\n",
       "\n",
       "    .dataframe thead th {\n",
       "        text-align: right;\n",
       "    }\n",
       "</style>\n",
       "<table border=\"1\" class=\"dataframe\">\n",
       "  <thead>\n",
       "    <tr style=\"text-align: right;\">\n",
       "      <th></th>\n",
       "      <th>qid</th>\n",
       "      <th>query</th>\n",
       "    </tr>\n",
       "  </thead>\n",
       "  <tbody>\n",
       "    <tr>\n",
       "      <th>0</th>\n",
       "      <td>q072224</td>\n",
       "      <td>purchase money</td>\n",
       "    </tr>\n",
       "    <tr>\n",
       "      <th>1</th>\n",
       "      <td>q072226</td>\n",
       "      <td>purchase used car</td>\n",
       "    </tr>\n",
       "    <tr>\n",
       "      <th>2</th>\n",
       "      <td>q072232</td>\n",
       "      <td>buy gold silver</td>\n",
       "    </tr>\n",
       "  </tbody>\n",
       "</table>\n",
       "</div>"
      ],
      "text/plain": [
       "       qid               query\n",
       "0  q072224      purchase money\n",
       "1  q072226   purchase used car\n",
       "2  q072232     buy gold silver"
      ]
     },
     "execution_count": 5,
     "metadata": {},
     "output_type": "execute_result"
    }
   ],
   "source": [
    "dataset = ir_datasets.load(validation_dataset)\n",
    "queries = pt.io.read_topics(ir_datasets.topics_file(validation_dataset), format='trecxml')\n",
    "\n",
    "queries.head(3)"
   ]
  },
  {
   "cell_type": "code",
   "execution_count": 6,
   "metadata": {},
   "outputs": [
    {
     "name": "stdout",
     "output_type": "stream",
     "text": [
      "No settings given in /root/.tira/.tira-settings.json. I will use defaults.\n"
     ]
    }
   ],
   "source": [
    "index = create_index(dataset.docs_iter())"
   ]
  },
  {
   "cell_type": "code",
   "execution_count": 7,
   "metadata": {},
   "outputs": [
    {
     "name": "stdout",
     "output_type": "stream",
     "text": [
      "Run bm25-b=0.7-k_1=1.1\n"
     ]
    },
    {
     "name": "stderr",
     "output_type": "stream",
     "text": [
      "BR(BM25): 100%|██████████| 882/882 [12:22<00:00,  1.19q/s]\n"
     ]
    },
    {
     "name": "stdout",
     "output_type": "stream",
     "text": [
      "Done. run file is stored under \"grid-search/validation/bm25-b=0.7-k_1=1.1/run.txt\".\n",
      "Run bm25-b=0.7-k_1=1.2\n"
     ]
    },
    {
     "name": "stderr",
     "output_type": "stream",
     "text": [
      "BR(BM25): 100%|██████████| 882/882 [12:25<00:00,  1.18q/s]\n"
     ]
    },
    {
     "name": "stdout",
     "output_type": "stream",
     "text": [
      "Done. run file is stored under \"grid-search/validation/bm25-b=0.7-k_1=1.2/run.txt\".\n",
      "Run bm25-b=0.7-k_1=1.3\n"
     ]
    },
    {
     "name": "stderr",
     "output_type": "stream",
     "text": [
      "BR(BM25): 100%|██████████| 882/882 [10:54<00:00,  1.35q/s]\n"
     ]
    },
    {
     "name": "stdout",
     "output_type": "stream",
     "text": [
      "Done. run file is stored under \"grid-search/validation/bm25-b=0.7-k_1=1.3/run.txt\".\n",
      "Run bm25-b=0.75-k_1=1.1\n"
     ]
    },
    {
     "name": "stderr",
     "output_type": "stream",
     "text": [
      "BR(BM25): 100%|██████████| 882/882 [10:58<00:00,  1.34q/s]\n"
     ]
    },
    {
     "name": "stdout",
     "output_type": "stream",
     "text": [
      "Done. run file is stored under \"grid-search/validation/bm25-b=0.75-k_1=1.1/run.txt\".\n",
      "Run bm25-b=0.75-k_1=1.2\n"
     ]
    },
    {
     "name": "stderr",
     "output_type": "stream",
     "text": [
      "BR(BM25): 100%|██████████| 882/882 [10:56<00:00,  1.34q/s]\n"
     ]
    },
    {
     "name": "stdout",
     "output_type": "stream",
     "text": [
      "Done. run file is stored under \"grid-search/validation/bm25-b=0.75-k_1=1.2/run.txt\".\n",
      "Run bm25-b=0.75-k_1=1.3\n"
     ]
    },
    {
     "name": "stderr",
     "output_type": "stream",
     "text": [
      "BR(BM25): 100%|██████████| 882/882 [10:55<00:00,  1.34q/s]\n"
     ]
    },
    {
     "name": "stdout",
     "output_type": "stream",
     "text": [
      "Done. run file is stored under \"grid-search/validation/bm25-b=0.75-k_1=1.3/run.txt\".\n",
      "Run bm25-b=0.8-k_1=1.1\n"
     ]
    },
    {
     "name": "stderr",
     "output_type": "stream",
     "text": [
      "BR(BM25): 100%|██████████| 882/882 [10:39<00:00,  1.38q/s]\n"
     ]
    },
    {
     "name": "stdout",
     "output_type": "stream",
     "text": [
      "Done. run file is stored under \"grid-search/validation/bm25-b=0.8-k_1=1.1/run.txt\".\n",
      "Run bm25-b=0.8-k_1=1.2\n"
     ]
    },
    {
     "name": "stderr",
     "output_type": "stream",
     "text": [
      "BR(BM25): 100%|██████████| 882/882 [11:00<00:00,  1.33q/s]\n"
     ]
    },
    {
     "name": "stdout",
     "output_type": "stream",
     "text": [
      "Done. run file is stored under \"grid-search/validation/bm25-b=0.8-k_1=1.2/run.txt\".\n",
      "Run bm25-b=0.8-k_1=1.3\n"
     ]
    },
    {
     "name": "stderr",
     "output_type": "stream",
     "text": [
      "BR(BM25): 100%|██████████| 882/882 [10:45<00:00,  1.37q/s]\n"
     ]
    },
    {
     "name": "stdout",
     "output_type": "stream",
     "text": [
      "Done. run file is stored under \"grid-search/validation/bm25-b=0.8-k_1=1.3/run.txt\".\n"
     ]
    }
   ],
   "source": [
    "run_bm25_grid_search_run(index, 'grid-search/validation', queries)"
   ]
  },
  {
   "cell_type": "markdown",
   "metadata": {},
   "source": [
    "# Part 2: Evaluate all Configurations of the Grid Search\n",
    "\n",
    "First, we import the dependencies and load the training and validation qrels."
   ]
  },
  {
   "cell_type": "code",
   "execution_count": 2,
   "metadata": {},
   "outputs": [
    {
     "name": "stdout",
     "output_type": "stream",
     "text": [
      "No settings given in /root/.tira/.tira-settings.json. I will use defaults.\n"
     ]
    }
   ],
   "source": [
    "from trectools import TrecRun, TrecQrel, TrecEval\n",
    "from tira.rest_api_client import Client\n",
    "from glob import glob\n",
    "import pandas as pd\n",
    "tira = Client()\n",
    "\n",
    "def load_qrels(dataset):\n",
    "    return TrecQrel(tira.download_dataset('ir-lab-jena-leipzig-wise-2023', dataset, truth_dataset=True) + '/qrels.txt')\n",
    "\n",
    "training_qrels = load_qrels('training-20231104-training')\n",
    "validation_qrels = load_qrels('validation-20231104-training')"
   ]
  },
  {
   "cell_type": "markdown",
   "metadata": {},
   "source": [
    "We download the rusn of the grid search and evaluate them."
   ]
  },
  {
   "cell_type": "code",
   "execution_count": 6,
   "metadata": {},
   "outputs": [
    {
     "name": "stdout",
     "output_type": "stream",
     "text": [
      "--2023-11-05 20:56:57--  https://files.webis.de/teaching/ir-wise-23/ir-lab-sose-grid-search.zip\n",
      "Resolving files.webis.de (files.webis.de)... 141.54.132.200\n",
      "Connecting to files.webis.de (files.webis.de)|141.54.132.200|:443... connected.\n"
     ]
    },
    {
     "name": "stdout",
     "output_type": "stream",
     "text": [
      "HTTP request sent, awaiting response... 200 OK\n",
      "Length: 208266950 (199M) [application/zip]\n",
      "Saving to: ‘ir-lab-sose-grid-search.zip’\n",
      "\n",
      "ir-lab-sose-grid-se 100%[===================>] 198.62M  24.0MB/s    in 8.5s    \n",
      "\n",
      "2023-11-05 20:57:06 (23.3 MB/s) - ‘ir-lab-sose-grid-search.zip’ saved [208266950/208266950]\n",
      "\n",
      "Archive:  ir-lab-sose-grid-search.zip\n",
      "   creating: grid-search/\n",
      "   creating: grid-search/training/\n",
      "   creating: grid-search/training/bm25-b=0.7-k_1=1.1/\n",
      "  inflating: grid-search/training/bm25-b=0.7-k_1=1.1/run.txt  \n",
      "   creating: grid-search/training/bm25-b=0.7-k_1=1.2/\n",
      "  inflating: grid-search/training/bm25-b=0.7-k_1=1.2/run.txt  \n",
      "   creating: grid-search/training/bm25-b=0.7-k_1=1.3/\n",
      "  inflating: grid-search/training/bm25-b=0.7-k_1=1.3/run.txt  \n",
      "   creating: grid-search/training/bm25-b=0.75-k_1=1.1/\n",
      "  inflating: grid-search/training/bm25-b=0.75-k_1=1.1/run.txt  \n",
      "   creating: grid-search/training/bm25-b=0.75-k_1=1.2/\n",
      "  inflating: grid-search/training/bm25-b=0.75-k_1=1.2/run.txt  \n",
      "   creating: grid-search/training/bm25-b=0.75-k_1=1.3/\n",
      "  inflating: grid-search/training/bm25-b=0.75-k_1=1.3/run.txt  \n",
      "   creating: grid-search/training/bm25-b=0.8-k_1=1.2/\n",
      "  inflating: grid-search/training/bm25-b=0.8-k_1=1.2/run.txt  \n",
      "   creating: grid-search/training/bm25-b=0.8-k_1=1.1/\n",
      "  inflating: grid-search/training/bm25-b=0.8-k_1=1.1/run.txt  \n",
      "   creating: grid-search/training/bm25-b=0.8-k_1=1.3/\n",
      "  inflating: grid-search/training/bm25-b=0.8-k_1=1.3/run.txt  \n",
      "   creating: grid-search/validation/\n",
      "   creating: grid-search/validation/bm25-b=0.8-k_1=1.2/\n",
      "  inflating: grid-search/validation/bm25-b=0.8-k_1=1.2/run.txt  \n",
      "   creating: grid-search/validation/bm25-b=0.8-k_1=1.3/\n",
      "  inflating: grid-search/validation/bm25-b=0.8-k_1=1.3/run.txt  \n",
      "   creating: grid-search/validation/bm25-b=0.7-k_1=1.1/\n",
      "  inflating: grid-search/validation/bm25-b=0.7-k_1=1.1/run.txt  \n",
      "   creating: grid-search/validation/bm25-b=0.7-k_1=1.2/\n",
      "  inflating: grid-search/validation/bm25-b=0.7-k_1=1.2/run.txt  \n",
      "   creating: grid-search/validation/bm25-b=0.7-k_1=1.3/\n",
      "  inflating: grid-search/validation/bm25-b=0.7-k_1=1.3/run.txt  \n",
      "   creating: grid-search/validation/bm25-b=0.75-k_1=1.1/\n",
      "  inflating: grid-search/validation/bm25-b=0.75-k_1=1.1/run.txt  \n",
      "   creating: grid-search/validation/bm25-b=0.75-k_1=1.2/\n",
      "  inflating: grid-search/validation/bm25-b=0.75-k_1=1.2/run.txt  \n",
      "   creating: grid-search/validation/bm25-b=0.75-k_1=1.3/\n",
      "  inflating: grid-search/validation/bm25-b=0.75-k_1=1.3/run.txt  \n",
      "   creating: grid-search/validation/bm25-b=0.8-k_1=1.1/\n",
      "  inflating: grid-search/validation/bm25-b=0.8-k_1=1.1/run.txt  \n"
     ]
    }
   ],
   "source": [
    "!wget https://files.webis.de/teaching/ir-wise-23/ir-lab-sose-grid-search.zip\n",
    "!unzip ir-lab-sose-grid-search.zip"
   ]
  },
  {
   "cell_type": "code",
   "execution_count": 7,
   "metadata": {},
   "outputs": [],
   "source": [
    "def evaluate_run(run_dir, qrels):\n",
    "    run = TrecRun(run_dir + '/run.txt')\n",
    "    trec_eval = TrecEval(run, qrels)\n",
    "\n",
    "    return {\n",
    "        'run': run.get_runid(),\n",
    "        'nDCG@10': trec_eval.get_ndcg(depth=10),\n",
    "        'nDCG@10 (unjudgedRemoved)': trec_eval.get_ndcg(depth=10, removeUnjudged=True),\n",
    "        'MAP': trec_eval.get_map(depth=10),\n",
    "        'MRR': trec_eval.get_reciprocal_rank()\n",
    "    }"
   ]
  },
  {
   "cell_type": "code",
   "execution_count": 14,
   "metadata": {},
   "outputs": [
    {
     "data": {
      "text/html": [
       "<div>\n",
       "<style scoped>\n",
       "    .dataframe tbody tr th:only-of-type {\n",
       "        vertical-align: middle;\n",
       "    }\n",
       "\n",
       "    .dataframe tbody tr th {\n",
       "        vertical-align: top;\n",
       "    }\n",
       "\n",
       "    .dataframe thead th {\n",
       "        text-align: right;\n",
       "    }\n",
       "</style>\n",
       "<table border=\"1\" class=\"dataframe\">\n",
       "  <thead>\n",
       "    <tr style=\"text-align: right;\">\n",
       "      <th></th>\n",
       "      <th>run</th>\n",
       "      <th>nDCG@10</th>\n",
       "      <th>nDCG@10 (unjudgedRemoved)</th>\n",
       "      <th>MAP</th>\n",
       "      <th>MRR</th>\n",
       "    </tr>\n",
       "  </thead>\n",
       "  <tbody>\n",
       "    <tr>\n",
       "      <th>7</th>\n",
       "      <td>bm25-b=0.8-k_1=1.3</td>\n",
       "      <td>0.180344</td>\n",
       "      <td>0.538240</td>\n",
       "      <td>0.121363</td>\n",
       "      <td>0.264709</td>\n",
       "    </tr>\n",
       "    <tr>\n",
       "      <th>5</th>\n",
       "      <td>bm25-b=0.8-k_1=1.2</td>\n",
       "      <td>0.180077</td>\n",
       "      <td>0.538306</td>\n",
       "      <td>0.121138</td>\n",
       "      <td>0.264024</td>\n",
       "    </tr>\n",
       "    <tr>\n",
       "      <th>3</th>\n",
       "      <td>bm25-b=0.8-k_1=1.1</td>\n",
       "      <td>0.179424</td>\n",
       "      <td>0.537341</td>\n",
       "      <td>0.120681</td>\n",
       "      <td>0.263756</td>\n",
       "    </tr>\n",
       "    <tr>\n",
       "      <th>2</th>\n",
       "      <td>bm25-b=0.75-k_1=1.3</td>\n",
       "      <td>0.177931</td>\n",
       "      <td>0.536984</td>\n",
       "      <td>0.119467</td>\n",
       "      <td>0.264127</td>\n",
       "    </tr>\n",
       "    <tr>\n",
       "      <th>0</th>\n",
       "      <td>bm25-b=0.75-k_1=1.2</td>\n",
       "      <td>0.177380</td>\n",
       "      <td>0.536716</td>\n",
       "      <td>0.118656</td>\n",
       "      <td>0.262814</td>\n",
       "    </tr>\n",
       "    <tr>\n",
       "      <th>6</th>\n",
       "      <td>bm25-b=0.75-k_1=1.1</td>\n",
       "      <td>0.176958</td>\n",
       "      <td>0.536394</td>\n",
       "      <td>0.118267</td>\n",
       "      <td>0.262656</td>\n",
       "    </tr>\n",
       "    <tr>\n",
       "      <th>8</th>\n",
       "      <td>bm25-b=0.7-k_1=1.3</td>\n",
       "      <td>0.176549</td>\n",
       "      <td>0.537078</td>\n",
       "      <td>0.118874</td>\n",
       "      <td>0.262420</td>\n",
       "    </tr>\n",
       "    <tr>\n",
       "      <th>4</th>\n",
       "      <td>bm25-b=0.7-k_1=1.1</td>\n",
       "      <td>0.176017</td>\n",
       "      <td>0.536765</td>\n",
       "      <td>0.118172</td>\n",
       "      <td>0.261779</td>\n",
       "    </tr>\n",
       "    <tr>\n",
       "      <th>1</th>\n",
       "      <td>bm25-b=0.7-k_1=1.2</td>\n",
       "      <td>0.175711</td>\n",
       "      <td>0.536624</td>\n",
       "      <td>0.117826</td>\n",
       "      <td>0.261377</td>\n",
       "    </tr>\n",
       "  </tbody>\n",
       "</table>\n",
       "</div>"
      ],
      "text/plain": [
       "                   run   nDCG@10  nDCG@10 (unjudgedRemoved)       MAP  \\\n",
       "7   bm25-b=0.8-k_1=1.3  0.180344                   0.538240  0.121363   \n",
       "5   bm25-b=0.8-k_1=1.2  0.180077                   0.538306  0.121138   \n",
       "3   bm25-b=0.8-k_1=1.1  0.179424                   0.537341  0.120681   \n",
       "2  bm25-b=0.75-k_1=1.3  0.177931                   0.536984  0.119467   \n",
       "0  bm25-b=0.75-k_1=1.2  0.177380                   0.536716  0.118656   \n",
       "6  bm25-b=0.75-k_1=1.1  0.176958                   0.536394  0.118267   \n",
       "8   bm25-b=0.7-k_1=1.3  0.176549                   0.537078  0.118874   \n",
       "4   bm25-b=0.7-k_1=1.1  0.176017                   0.536765  0.118172   \n",
       "1   bm25-b=0.7-k_1=1.2  0.175711                   0.536624  0.117826   \n",
       "\n",
       "        MRR  \n",
       "7  0.264709  \n",
       "5  0.264024  \n",
       "3  0.263756  \n",
       "2  0.264127  \n",
       "0  0.262814  \n",
       "6  0.262656  \n",
       "8  0.262420  \n",
       "4  0.261779  \n",
       "1  0.261377  "
      ]
     },
     "execution_count": 14,
     "metadata": {},
     "output_type": "execute_result"
    }
   ],
   "source": [
    "df = []\n",
    "for r in glob('grid-search/training/bm25*'):\n",
    "    df += [evaluate_run(r, training_qrels)]\n",
    "df = pd.DataFrame(df)\n",
    "df.sort_values('nDCG@10', ascending=False)"
   ]
  },
  {
   "cell_type": "code",
   "execution_count": 12,
   "metadata": {},
   "outputs": [
    {
     "data": {
      "text/html": [
       "<div>\n",
       "<style scoped>\n",
       "    .dataframe tbody tr th:only-of-type {\n",
       "        vertical-align: middle;\n",
       "    }\n",
       "\n",
       "    .dataframe tbody tr th {\n",
       "        vertical-align: top;\n",
       "    }\n",
       "\n",
       "    .dataframe thead th {\n",
       "        text-align: right;\n",
       "    }\n",
       "</style>\n",
       "<table border=\"1\" class=\"dataframe\">\n",
       "  <thead>\n",
       "    <tr style=\"text-align: right;\">\n",
       "      <th></th>\n",
       "      <th>run</th>\n",
       "      <th>nDCG@10</th>\n",
       "      <th>nDCG@10 (unjudgedRemoved)</th>\n",
       "      <th>MAP</th>\n",
       "      <th>MRR</th>\n",
       "    </tr>\n",
       "  </thead>\n",
       "  <tbody>\n",
       "    <tr>\n",
       "      <th>5</th>\n",
       "      <td>bm25-b=0.8-k_1=1.2</td>\n",
       "      <td>0.181957</td>\n",
       "      <td>0.523761</td>\n",
       "      <td>0.125262</td>\n",
       "      <td>0.260425</td>\n",
       "    </tr>\n",
       "    <tr>\n",
       "      <th>3</th>\n",
       "      <td>bm25-b=0.8-k_1=1.1</td>\n",
       "      <td>0.181566</td>\n",
       "      <td>0.523328</td>\n",
       "      <td>0.125050</td>\n",
       "      <td>0.260600</td>\n",
       "    </tr>\n",
       "    <tr>\n",
       "      <th>6</th>\n",
       "      <td>bm25-b=0.75-k_1=1.1</td>\n",
       "      <td>0.181476</td>\n",
       "      <td>0.522154</td>\n",
       "      <td>0.125384</td>\n",
       "      <td>0.264391</td>\n",
       "    </tr>\n",
       "    <tr>\n",
       "      <th>7</th>\n",
       "      <td>bm25-b=0.8-k_1=1.3</td>\n",
       "      <td>0.181300</td>\n",
       "      <td>0.524912</td>\n",
       "      <td>0.125203</td>\n",
       "      <td>0.261041</td>\n",
       "    </tr>\n",
       "    <tr>\n",
       "      <th>0</th>\n",
       "      <td>bm25-b=0.75-k_1=1.2</td>\n",
       "      <td>0.181206</td>\n",
       "      <td>0.522771</td>\n",
       "      <td>0.125210</td>\n",
       "      <td>0.264076</td>\n",
       "    </tr>\n",
       "    <tr>\n",
       "      <th>2</th>\n",
       "      <td>bm25-b=0.75-k_1=1.3</td>\n",
       "      <td>0.180932</td>\n",
       "      <td>0.522815</td>\n",
       "      <td>0.125112</td>\n",
       "      <td>0.263925</td>\n",
       "    </tr>\n",
       "    <tr>\n",
       "      <th>4</th>\n",
       "      <td>bm25-b=0.7-k_1=1.1</td>\n",
       "      <td>0.180461</td>\n",
       "      <td>0.519431</td>\n",
       "      <td>0.123792</td>\n",
       "      <td>0.262504</td>\n",
       "    </tr>\n",
       "    <tr>\n",
       "      <th>1</th>\n",
       "      <td>bm25-b=0.7-k_1=1.2</td>\n",
       "      <td>0.180256</td>\n",
       "      <td>0.520230</td>\n",
       "      <td>0.123787</td>\n",
       "      <td>0.262342</td>\n",
       "    </tr>\n",
       "    <tr>\n",
       "      <th>8</th>\n",
       "      <td>bm25-b=0.7-k_1=1.3</td>\n",
       "      <td>0.179685</td>\n",
       "      <td>0.520998</td>\n",
       "      <td>0.123525</td>\n",
       "      <td>0.262351</td>\n",
       "    </tr>\n",
       "  </tbody>\n",
       "</table>\n",
       "</div>"
      ],
      "text/plain": [
       "                   run   nDCG@10  nDCG@10 (unjudgedRemoved)       MAP  \\\n",
       "5   bm25-b=0.8-k_1=1.2  0.181957                   0.523761  0.125262   \n",
       "3   bm25-b=0.8-k_1=1.1  0.181566                   0.523328  0.125050   \n",
       "6  bm25-b=0.75-k_1=1.1  0.181476                   0.522154  0.125384   \n",
       "7   bm25-b=0.8-k_1=1.3  0.181300                   0.524912  0.125203   \n",
       "0  bm25-b=0.75-k_1=1.2  0.181206                   0.522771  0.125210   \n",
       "2  bm25-b=0.75-k_1=1.3  0.180932                   0.522815  0.125112   \n",
       "4   bm25-b=0.7-k_1=1.1  0.180461                   0.519431  0.123792   \n",
       "1   bm25-b=0.7-k_1=1.2  0.180256                   0.520230  0.123787   \n",
       "8   bm25-b=0.7-k_1=1.3  0.179685                   0.520998  0.123525   \n",
       "\n",
       "        MRR  \n",
       "5  0.260425  \n",
       "3  0.260600  \n",
       "6  0.264391  \n",
       "7  0.261041  \n",
       "0  0.264076  \n",
       "2  0.263925  \n",
       "4  0.262504  \n",
       "1  0.262342  \n",
       "8  0.262351  "
      ]
     },
     "execution_count": 12,
     "metadata": {},
     "output_type": "execute_result"
    }
   ],
   "source": [
    "df = []\n",
    "for r in glob('grid-search/validation/bm25*'):\n",
    "    df += [evaluate_run(r, validation_qrels)]\n",
    "df = pd.DataFrame(df)\n",
    "df.sort_values('nDCG@10', ascending=False)"
   ]
  },
  {
   "cell_type": "markdown",
   "metadata": {},
   "source": [
    "# Summary\n",
    "\n",
    "We conducted an exhaustive grid search on the b and k1 parameters of BM25.\n",
    "\n",
    "To summarize everything, please answer the following three questions:\n"
   ]
  },
  {
   "cell_type": "markdown",
   "metadata": {},
   "source": [
    "### Question 1:\n",
    "\n",
    "What are the advantages of splitting  into a training and validation set?\n"
   ]
  },
  {
   "cell_type": "markdown",
   "metadata": {},
   "source": [
    "### Question 2:\n",
    "\n",
    "Are there scenarious where you would join the training and validation data?"
   ]
  }
 ],
 "metadata": {
  "kernelspec": {
   "display_name": "Python 3",
   "language": "python",
   "name": "python3"
  },
  "language_info": {
   "codemirror_mode": {
    "name": "ipython",
    "version": 3
   },
   "file_extension": ".py",
   "mimetype": "text/x-python",
   "name": "python",
   "nbconvert_exporter": "python",
   "pygments_lexer": "ipython3",
   "version": "3.10.12"
  },
  "orig_nbformat": 4
 },
 "nbformat": 4,
 "nbformat_minor": 2
}
