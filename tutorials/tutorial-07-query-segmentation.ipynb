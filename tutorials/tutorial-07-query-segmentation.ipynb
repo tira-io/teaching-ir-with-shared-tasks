{
 "cells": [
  {
   "cell_type": "markdown",
   "metadata": {},
   "source": [
    "# Research Oriented Tutorial: Query Segmentation"
   ]
  },
  {
   "cell_type": "code",
   "execution_count": 1,
   "metadata": {},
   "outputs": [
    {
     "name": "stdout",
     "output_type": "stream",
     "text": [
      "Start PyTerrier with version=5.7, helper_version=0.0.7, no_download=True\n"
     ]
    },
    {
     "name": "stderr",
     "output_type": "stream",
     "text": [
      "PyTerrier 0.9.2 has loaded Terrier 5.7 (built by craigm on 2022-11-10 18:30) and terrier-helper 0.0.7\n",
      "\n",
      "No etc/terrier.properties, using terrier.default.properties for bootstrap configuration.\n"
     ]
    },
    {
     "name": "stdout",
     "output_type": "stream",
     "text": [
      "No settings given in /root/.tira/.tira-settings.json. I will use defaults.\n"
     ]
    }
   ],
   "source": [
    "from tira.third_party_integrations import ensure_pyterrier_is_loaded\n",
    "from tira.rest_api_client import Client\n",
    "\n",
    "import pyterrier as pt\n",
    "\n",
    "ensure_pyterrier_is_loaded()\n",
    "tira = Client()"
   ]
  },
  {
   "cell_type": "code",
   "execution_count": null,
   "metadata": {},
   "outputs": [],
   "source": [
    "# This is only needed in Google Colab, in the dev container, everything should be installed already\n",
    "!pip3 install tira trectools python-terrier"
   ]
  },
  {
   "cell_type": "code",
   "execution_count": 4,
   "metadata": {},
   "outputs": [
    {
     "data": {
      "text/html": [
       "<div>\n",
       "<style scoped>\n",
       "    .dataframe tbody tr th:only-of-type {\n",
       "        vertical-align: middle;\n",
       "    }\n",
       "\n",
       "    .dataframe tbody tr th {\n",
       "        vertical-align: top;\n",
       "    }\n",
       "\n",
       "    .dataframe thead th {\n",
       "        text-align: right;\n",
       "    }\n",
       "</style>\n",
       "<table border=\"1\" class=\"dataframe\">\n",
       "  <thead>\n",
       "    <tr style=\"text-align: right;\">\n",
       "      <th></th>\n",
       "      <th>qid</th>\n",
       "      <th>query</th>\n",
       "    </tr>\n",
       "  </thead>\n",
       "  <tbody>\n",
       "    <tr>\n",
       "      <th>0</th>\n",
       "      <td>301</td>\n",
       "      <td>international organized crime</td>\n",
       "    </tr>\n",
       "    <tr>\n",
       "      <th>1</th>\n",
       "      <td>302</td>\n",
       "      <td>poliomyelitis and post polio</td>\n",
       "    </tr>\n",
       "    <tr>\n",
       "      <th>2</th>\n",
       "      <td>303</td>\n",
       "      <td>hubble telescope achievements</td>\n",
       "    </tr>\n",
       "  </tbody>\n",
       "</table>\n",
       "</div>"
      ],
      "text/plain": [
       "   qid                          query\n",
       "0  301  international organized crime\n",
       "1  302   poliomyelitis and post polio\n",
       "2  303  hubble telescope achievements"
      ]
     },
     "execution_count": 4,
     "metadata": {},
     "output_type": "execute_result"
    }
   ],
   "source": [
    "dataset = pt.get_dataset(\"irds:disks45/nocr/trec-robust-2004\")\n",
    "topics = dataset.get_topics(variant='title')\n",
    "topics.head(3)"
   ]
  },
  {
   "cell_type": "code",
   "execution_count": 8,
   "metadata": {},
   "outputs": [
    {
     "data": {
      "text/html": [
       "<div>\n",
       "<style scoped>\n",
       "    .dataframe tbody tr th:only-of-type {\n",
       "        vertical-align: middle;\n",
       "    }\n",
       "\n",
       "    .dataframe tbody tr th {\n",
       "        vertical-align: top;\n",
       "    }\n",
       "\n",
       "    .dataframe thead th {\n",
       "        text-align: right;\n",
       "    }\n",
       "</style>\n",
       "<table border=\"1\" class=\"dataframe\">\n",
       "  <thead>\n",
       "    <tr style=\"text-align: right;\">\n",
       "      <th></th>\n",
       "      <th>qid</th>\n",
       "      <th>query</th>\n",
       "      <th>originalQuery</th>\n",
       "      <th>segmentationApproach</th>\n",
       "      <th>segmentation</th>\n",
       "    </tr>\n",
       "  </thead>\n",
       "  <tbody>\n",
       "    <tr>\n",
       "      <th>0</th>\n",
       "      <td>301</td>\n",
       "      <td>international organized crime</td>\n",
       "      <td>International Organized Crime</td>\n",
       "      <td>wt-snp-baseline</td>\n",
       "      <td>[international organized crime]</td>\n",
       "    </tr>\n",
       "    <tr>\n",
       "      <th>1</th>\n",
       "      <td>302</td>\n",
       "      <td>poliomyelitis and post polio</td>\n",
       "      <td>Poliomyelitis and Post-Polio</td>\n",
       "      <td>wt-snp-baseline</td>\n",
       "      <td>[poliomyelitis, and, post-polio]</td>\n",
       "    </tr>\n",
       "    <tr>\n",
       "      <th>2</th>\n",
       "      <td>303</td>\n",
       "      <td>hubble telescope achievements</td>\n",
       "      <td>Hubble Telescope Achievements</td>\n",
       "      <td>wt-snp-baseline</td>\n",
       "      <td>[hubble telescope achievements]</td>\n",
       "    </tr>\n",
       "  </tbody>\n",
       "</table>\n",
       "</div>"
      ],
      "text/plain": [
       "   qid                          query                  originalQuery  \\\n",
       "0  301  international organized crime  International Organized Crime   \n",
       "1  302   poliomyelitis and post polio   Poliomyelitis and Post-Polio   \n",
       "2  303  hubble telescope achievements  Hubble Telescope Achievements   \n",
       "\n",
       "  segmentationApproach                      segmentation  \n",
       "0      wt-snp-baseline   [international organized crime]  \n",
       "1      wt-snp-baseline  [poliomyelitis, and, post-polio]  \n",
       "2      wt-snp-baseline   [hubble telescope achievements]  "
      ]
     },
     "execution_count": 8,
     "metadata": {},
     "output_type": "execute_result"
    }
   ],
   "source": [
    "query_health_classification = tira.pt.transform_queries('ir-benchmarks/ows/query-segmentation-wt-snp', dataset)\n",
    "query_health_classification(topics).head(3)"
   ]
  },
  {
   "cell_type": "code",
   "execution_count": 9,
   "metadata": {},
   "outputs": [
    {
     "data": {
      "text/html": [
       "<div>\n",
       "<style scoped>\n",
       "    .dataframe tbody tr th:only-of-type {\n",
       "        vertical-align: middle;\n",
       "    }\n",
       "\n",
       "    .dataframe tbody tr th {\n",
       "        vertical-align: top;\n",
       "    }\n",
       "\n",
       "    .dataframe thead th {\n",
       "        text-align: right;\n",
       "    }\n",
       "</style>\n",
       "<table border=\"1\" class=\"dataframe\">\n",
       "  <thead>\n",
       "    <tr style=\"text-align: right;\">\n",
       "      <th></th>\n",
       "      <th>qid</th>\n",
       "      <th>query</th>\n",
       "      <th>originalQuery</th>\n",
       "      <th>segmentationApproach</th>\n",
       "      <th>segmentation</th>\n",
       "    </tr>\n",
       "  </thead>\n",
       "  <tbody>\n",
       "    <tr>\n",
       "      <th>0</th>\n",
       "      <td>301</td>\n",
       "      <td>international organized crime</td>\n",
       "      <td>International Organized Crime</td>\n",
       "      <td>hyb-a</td>\n",
       "      <td>[international, organized crime]</td>\n",
       "    </tr>\n",
       "    <tr>\n",
       "      <th>1</th>\n",
       "      <td>302</td>\n",
       "      <td>poliomyelitis and post polio</td>\n",
       "      <td>Poliomyelitis and Post-Polio</td>\n",
       "      <td>hyb-a</td>\n",
       "      <td>[poliomyelitis, and, post-polio]</td>\n",
       "    </tr>\n",
       "    <tr>\n",
       "      <th>2</th>\n",
       "      <td>303</td>\n",
       "      <td>hubble telescope achievements</td>\n",
       "      <td>Hubble Telescope Achievements</td>\n",
       "      <td>hyb-a</td>\n",
       "      <td>[hubble telescope, achievements]</td>\n",
       "    </tr>\n",
       "  </tbody>\n",
       "</table>\n",
       "</div>"
      ],
      "text/plain": [
       "   qid                          query                  originalQuery  \\\n",
       "0  301  international organized crime  International Organized Crime   \n",
       "1  302   poliomyelitis and post polio   Poliomyelitis and Post-Polio   \n",
       "2  303  hubble telescope achievements  Hubble Telescope Achievements   \n",
       "\n",
       "  segmentationApproach                      segmentation  \n",
       "0                hyb-a  [international, organized crime]  \n",
       "1                hyb-a  [poliomyelitis, and, post-polio]  \n",
       "2                hyb-a  [hubble telescope, achievements]  "
      ]
     },
     "execution_count": 9,
     "metadata": {},
     "output_type": "execute_result"
    }
   ],
   "source": [
    "query_health_classification = tira.pt.transform_queries('ir-benchmarks/ows/query-segmentation-hyb-a', dataset)\n",
    "query_health_classification(topics).head(3)"
   ]
  },
  {
   "cell_type": "code",
   "execution_count": 10,
   "metadata": {},
   "outputs": [
    {
     "data": {
      "text/html": [
       "<div>\n",
       "<style scoped>\n",
       "    .dataframe tbody tr th:only-of-type {\n",
       "        vertical-align: middle;\n",
       "    }\n",
       "\n",
       "    .dataframe tbody tr th {\n",
       "        vertical-align: top;\n",
       "    }\n",
       "\n",
       "    .dataframe thead th {\n",
       "        text-align: right;\n",
       "    }\n",
       "</style>\n",
       "<table border=\"1\" class=\"dataframe\">\n",
       "  <thead>\n",
       "    <tr style=\"text-align: right;\">\n",
       "      <th></th>\n",
       "      <th>qid</th>\n",
       "      <th>query</th>\n",
       "      <th>originalQuery</th>\n",
       "      <th>segmentationApproach</th>\n",
       "      <th>segmentation</th>\n",
       "    </tr>\n",
       "  </thead>\n",
       "  <tbody>\n",
       "    <tr>\n",
       "      <th>0</th>\n",
       "      <td>301</td>\n",
       "      <td>international organized crime</td>\n",
       "      <td>International Organized Crime</td>\n",
       "      <td>hyb-b</td>\n",
       "      <td>[international, organized, crime]</td>\n",
       "    </tr>\n",
       "    <tr>\n",
       "      <th>1</th>\n",
       "      <td>302</td>\n",
       "      <td>poliomyelitis and post polio</td>\n",
       "      <td>Poliomyelitis and Post-Polio</td>\n",
       "      <td>hyb-b</td>\n",
       "      <td>[poliomyelitis, and, post-polio]</td>\n",
       "    </tr>\n",
       "    <tr>\n",
       "      <th>2</th>\n",
       "      <td>303</td>\n",
       "      <td>hubble telescope achievements</td>\n",
       "      <td>Hubble Telescope Achievements</td>\n",
       "      <td>hyb-b</td>\n",
       "      <td>[hubble, telescope, achievements]</td>\n",
       "    </tr>\n",
       "  </tbody>\n",
       "</table>\n",
       "</div>"
      ],
      "text/plain": [
       "   qid                          query                  originalQuery  \\\n",
       "0  301  international organized crime  International Organized Crime   \n",
       "1  302   poliomyelitis and post polio   Poliomyelitis and Post-Polio   \n",
       "2  303  hubble telescope achievements  Hubble Telescope Achievements   \n",
       "\n",
       "  segmentationApproach                       segmentation  \n",
       "0                hyb-b  [international, organized, crime]  \n",
       "1                hyb-b   [poliomyelitis, and, post-polio]  \n",
       "2                hyb-b  [hubble, telescope, achievements]  "
      ]
     },
     "execution_count": 10,
     "metadata": {},
     "output_type": "execute_result"
    }
   ],
   "source": [
    "query_health_classification = tira.pt.transform_queries('ir-benchmarks/ows/query-segmentation-hyb-b', dataset)\n",
    "query_health_classification(topics).head(3)"
   ]
  },
  {
   "cell_type": "code",
   "execution_count": 11,
   "metadata": {},
   "outputs": [
    {
     "data": {
      "text/html": [
       "<div>\n",
       "<style scoped>\n",
       "    .dataframe tbody tr th:only-of-type {\n",
       "        vertical-align: middle;\n",
       "    }\n",
       "\n",
       "    .dataframe tbody tr th {\n",
       "        vertical-align: top;\n",
       "    }\n",
       "\n",
       "    .dataframe thead th {\n",
       "        text-align: right;\n",
       "    }\n",
       "</style>\n",
       "<table border=\"1\" class=\"dataframe\">\n",
       "  <thead>\n",
       "    <tr style=\"text-align: right;\">\n",
       "      <th></th>\n",
       "      <th>qid</th>\n",
       "      <th>query</th>\n",
       "      <th>originalQuery</th>\n",
       "      <th>segmentationApproach</th>\n",
       "      <th>segmentation</th>\n",
       "    </tr>\n",
       "  </thead>\n",
       "  <tbody>\n",
       "    <tr>\n",
       "      <th>0</th>\n",
       "      <td>301</td>\n",
       "      <td>international organized crime</td>\n",
       "      <td>International Organized Crime</td>\n",
       "      <td>hyb-i</td>\n",
       "      <td>[international, organized, crime]</td>\n",
       "    </tr>\n",
       "    <tr>\n",
       "      <th>1</th>\n",
       "      <td>302</td>\n",
       "      <td>poliomyelitis and post polio</td>\n",
       "      <td>Poliomyelitis and Post-Polio</td>\n",
       "      <td>hyb-i</td>\n",
       "      <td>[poliomyelitis, and post-polio]</td>\n",
       "    </tr>\n",
       "    <tr>\n",
       "      <th>2</th>\n",
       "      <td>303</td>\n",
       "      <td>hubble telescope achievements</td>\n",
       "      <td>Hubble Telescope Achievements</td>\n",
       "      <td>hyb-i</td>\n",
       "      <td>[hubble, telescope, achievements]</td>\n",
       "    </tr>\n",
       "  </tbody>\n",
       "</table>\n",
       "</div>"
      ],
      "text/plain": [
       "   qid                          query                  originalQuery  \\\n",
       "0  301  international organized crime  International Organized Crime   \n",
       "1  302   poliomyelitis and post polio   Poliomyelitis and Post-Polio   \n",
       "2  303  hubble telescope achievements  Hubble Telescope Achievements   \n",
       "\n",
       "  segmentationApproach                       segmentation  \n",
       "0                hyb-i  [international, organized, crime]  \n",
       "1                hyb-i    [poliomyelitis, and post-polio]  \n",
       "2                hyb-i  [hubble, telescope, achievements]  "
      ]
     },
     "execution_count": 11,
     "metadata": {},
     "output_type": "execute_result"
    }
   ],
   "source": [
    "query_health_classification = tira.pt.transform_queries('ir-benchmarks/ows/query-segmentation-hyb-i', dataset)\n",
    "query_health_classification(topics).head(3)"
   ]
  },
  {
   "cell_type": "code",
   "execution_count": 12,
   "metadata": {},
   "outputs": [
    {
     "data": {
      "text/html": [
       "<div>\n",
       "<style scoped>\n",
       "    .dataframe tbody tr th:only-of-type {\n",
       "        vertical-align: middle;\n",
       "    }\n",
       "\n",
       "    .dataframe tbody tr th {\n",
       "        vertical-align: top;\n",
       "    }\n",
       "\n",
       "    .dataframe thead th {\n",
       "        text-align: right;\n",
       "    }\n",
       "</style>\n",
       "<table border=\"1\" class=\"dataframe\">\n",
       "  <thead>\n",
       "    <tr style=\"text-align: right;\">\n",
       "      <th></th>\n",
       "      <th>qid</th>\n",
       "      <th>query</th>\n",
       "      <th>originalQuery</th>\n",
       "      <th>segmentationApproach</th>\n",
       "      <th>segmentation</th>\n",
       "    </tr>\n",
       "  </thead>\n",
       "  <tbody>\n",
       "    <tr>\n",
       "      <th>0</th>\n",
       "      <td>301</td>\n",
       "      <td>international organized crime</td>\n",
       "      <td>International Organized Crime</td>\n",
       "      <td>wiki-based</td>\n",
       "      <td>[international, organized crime]</td>\n",
       "    </tr>\n",
       "    <tr>\n",
       "      <th>1</th>\n",
       "      <td>302</td>\n",
       "      <td>poliomyelitis and post polio</td>\n",
       "      <td>Poliomyelitis and Post-Polio</td>\n",
       "      <td>wiki-based</td>\n",
       "      <td>[poliomyelitis, and post-polio]</td>\n",
       "    </tr>\n",
       "    <tr>\n",
       "      <th>2</th>\n",
       "      <td>303</td>\n",
       "      <td>hubble telescope achievements</td>\n",
       "      <td>Hubble Telescope Achievements</td>\n",
       "      <td>wiki-based</td>\n",
       "      <td>[hubble telescope, achievements]</td>\n",
       "    </tr>\n",
       "  </tbody>\n",
       "</table>\n",
       "</div>"
      ],
      "text/plain": [
       "   qid                          query                  originalQuery  \\\n",
       "0  301  international organized crime  International Organized Crime   \n",
       "1  302   poliomyelitis and post polio   Poliomyelitis and Post-Polio   \n",
       "2  303  hubble telescope achievements  Hubble Telescope Achievements   \n",
       "\n",
       "  segmentationApproach                      segmentation  \n",
       "0           wiki-based  [international, organized crime]  \n",
       "1           wiki-based   [poliomyelitis, and post-polio]  \n",
       "2           wiki-based  [hubble telescope, achievements]  "
      ]
     },
     "execution_count": 12,
     "metadata": {},
     "output_type": "execute_result"
    }
   ],
   "source": [
    "query_health_classification = tira.pt.transform_queries('ir-benchmarks/ows/query-segmentation-wiki', dataset)\n",
    "query_health_classification(topics).head(3)"
   ]
  },
  {
   "cell_type": "code",
   "execution_count": 13,
   "metadata": {},
   "outputs": [
    {
     "data": {
      "text/html": [
       "<div>\n",
       "<style scoped>\n",
       "    .dataframe tbody tr th:only-of-type {\n",
       "        vertical-align: middle;\n",
       "    }\n",
       "\n",
       "    .dataframe tbody tr th {\n",
       "        vertical-align: top;\n",
       "    }\n",
       "\n",
       "    .dataframe thead th {\n",
       "        text-align: right;\n",
       "    }\n",
       "</style>\n",
       "<table border=\"1\" class=\"dataframe\">\n",
       "  <thead>\n",
       "    <tr style=\"text-align: right;\">\n",
       "      <th></th>\n",
       "      <th>qid</th>\n",
       "      <th>query</th>\n",
       "      <th>originalQuery</th>\n",
       "      <th>segmentationApproach</th>\n",
       "      <th>segmentation</th>\n",
       "    </tr>\n",
       "  </thead>\n",
       "  <tbody>\n",
       "    <tr>\n",
       "      <th>0</th>\n",
       "      <td>301</td>\n",
       "      <td>international organized crime</td>\n",
       "      <td>International Organized Crime</td>\n",
       "      <td>naive</td>\n",
       "      <td>[international, organized crime]</td>\n",
       "    </tr>\n",
       "    <tr>\n",
       "      <th>1</th>\n",
       "      <td>302</td>\n",
       "      <td>poliomyelitis and post polio</td>\n",
       "      <td>Poliomyelitis and Post-Polio</td>\n",
       "      <td>naive</td>\n",
       "      <td>[poliomyelitis, and post-polio]</td>\n",
       "    </tr>\n",
       "    <tr>\n",
       "      <th>2</th>\n",
       "      <td>303</td>\n",
       "      <td>hubble telescope achievements</td>\n",
       "      <td>Hubble Telescope Achievements</td>\n",
       "      <td>naive</td>\n",
       "      <td>[hubble telescope, achievements]</td>\n",
       "    </tr>\n",
       "  </tbody>\n",
       "</table>\n",
       "</div>"
      ],
      "text/plain": [
       "   qid                          query                  originalQuery  \\\n",
       "0  301  international organized crime  International Organized Crime   \n",
       "1  302   poliomyelitis and post polio   Poliomyelitis and Post-Polio   \n",
       "2  303  hubble telescope achievements  Hubble Telescope Achievements   \n",
       "\n",
       "  segmentationApproach                      segmentation  \n",
       "0                naive  [international, organized crime]  \n",
       "1                naive   [poliomyelitis, and post-polio]  \n",
       "2                naive  [hubble telescope, achievements]  "
      ]
     },
     "execution_count": 13,
     "metadata": {},
     "output_type": "execute_result"
    }
   ],
   "source": [
    "query_health_classification = tira.pt.transform_queries('ir-benchmarks/ows/query-segmentation-naive', dataset)\n",
    "query_health_classification(topics).head(3)\n"
   ]
  }
 ],
 "metadata": {
  "kernelspec": {
   "display_name": "Python 3",
   "language": "python",
   "name": "python3"
  },
  "language_info": {
   "codemirror_mode": {
    "name": "ipython",
    "version": 3
   },
   "file_extension": ".py",
   "mimetype": "text/x-python",
   "name": "python",
   "nbconvert_exporter": "python",
   "pygments_lexer": "ipython3",
   "version": "3.10.12"
  },
  "orig_nbformat": 4
 },
 "nbformat": 4,
 "nbformat_minor": 2
}
