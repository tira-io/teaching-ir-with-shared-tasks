{
  "cells": [
    {
      "cell_type": "markdown",
      "metadata": {
        "id": "w8g9eAcFXPPh"
      },
      "source": [
        "# A work in progress notebook for entity linking\n",
        "\n",
        "(Submission is currently in progress, looks like we have to lowercase all queries before linking the entities, currently discussing this with Marcel)"
      ]
    },
    {
      "cell_type": "code",
      "execution_count": null,
      "metadata": {
        "colab": {
          "base_uri": "https://localhost:8080/"
        },
        "id": "GCPbVYynSBnZ",
        "outputId": "4fd50167-8d5e-4064-d750-120902515118"
      },
      "outputs": [],
      "source": [
        "# Only needed in Colab, in codespaces everything is already installed.\n",
        "!pip3 install python-terrier tira ir-datasets"
      ]
    },
    {
      "cell_type": "code",
      "execution_count": 2,
      "metadata": {
        "colab": {
          "base_uri": "https://localhost:8080/"
        },
        "id": "kP6nwrlJSSUw",
        "outputId": "14b6a45d-5b30-4a74-eb1a-ef60a47294e6"
      },
      "outputs": [],
      "source": [
        "import pyterrier as pt\n",
        "\n",
        "if not pt.started():\n",
        "  pt.init()\n",
        "\n",
        "from tira.rest_api_client import Client\n",
        "tira = Client()"
      ]
    },
    {
      "cell_type": "code",
      "execution_count": 3,
      "metadata": {
        "colab": {
          "base_uri": "https://localhost:8080/",
          "height": 143
        },
        "id": "n8keQrBMVUR_",
        "outputId": "c987dcbb-84fa-4fed-b78c-0ee9a911d302"
      },
      "outputs": [],
      "source": [
        "dataset = pt.get_dataset(\"irds:disks45/nocr/trec-robust-2004\")\n",
        "topics = dataset.get_topics(variant='title')\n"
      ]
    },
    {
      "cell_type": "code",
      "execution_count": 4,
      "metadata": {
        "colab": {
          "base_uri": "https://localhost:8080/",
          "height": 424
        },
        "id": "tqOFa0PJVcvW",
        "outputId": "83838d44-ed55-4bf4-eeff-d2244b639652"
      },
      "outputs": [
        {
          "data": {
            "text/html": [
              "<div>\n",
              "<style scoped>\n",
              "    .dataframe tbody tr th:only-of-type {\n",
              "        vertical-align: middle;\n",
              "    }\n",
              "\n",
              "    .dataframe tbody tr th {\n",
              "        vertical-align: top;\n",
              "    }\n",
              "\n",
              "    .dataframe thead th {\n",
              "        text-align: right;\n",
              "    }\n",
              "</style>\n",
              "<table border=\"1\" class=\"dataframe\">\n",
              "  <thead>\n",
              "    <tr style=\"text-align: right;\">\n",
              "      <th></th>\n",
              "      <th>qid</th>\n",
              "      <th>query</th>\n",
              "      <th>original_query</th>\n",
              "      <th>entities</th>\n",
              "    </tr>\n",
              "  </thead>\n",
              "  <tbody>\n",
              "    <tr>\n",
              "      <th>0</th>\n",
              "      <td>301</td>\n",
              "      <td>International Organized Crime</td>\n",
              "      <td>{'query_id': '301', 'title': 'International Or...</td>\n",
              "      <td>[]</td>\n",
              "    </tr>\n",
              "    <tr>\n",
              "      <th>1</th>\n",
              "      <td>302</td>\n",
              "      <td>Poliomyelitis and Post-Polio</td>\n",
              "      <td>{'query_id': '302', 'title': 'Poliomyelitis an...</td>\n",
              "      <td>[]</td>\n",
              "    </tr>\n",
              "    <tr>\n",
              "      <th>2</th>\n",
              "      <td>303</td>\n",
              "      <td>Hubble Telescope Achievements</td>\n",
              "      <td>{'query_id': '303', 'title': 'Hubble Telescope...</td>\n",
              "      <td>[]</td>\n",
              "    </tr>\n",
              "    <tr>\n",
              "      <th>3</th>\n",
              "      <td>304</td>\n",
              "      <td>Endangered Species (Mammals)</td>\n",
              "      <td>{'query_id': '304', 'title': 'Endangered Speci...</td>\n",
              "      <td>[]</td>\n",
              "    </tr>\n",
              "    <tr>\n",
              "      <th>4</th>\n",
              "      <td>305</td>\n",
              "      <td>Most Dangerous Vehicles</td>\n",
              "      <td>{'query_id': '305', 'title': 'Most Dangerous V...</td>\n",
              "      <td>[]</td>\n",
              "    </tr>\n",
              "    <tr>\n",
              "      <th>...</th>\n",
              "      <td>...</td>\n",
              "      <td>...</td>\n",
              "      <td>...</td>\n",
              "      <td>...</td>\n",
              "    </tr>\n",
              "    <tr>\n",
              "      <th>245</th>\n",
              "      <td>696</td>\n",
              "      <td>safety plastic surgery</td>\n",
              "      <td>{'query_id': '696', 'title': 'safety plastic s...</td>\n",
              "      <td>[{'begin': 7, 'end': 22, 'mention': 'plastic s...</td>\n",
              "    </tr>\n",
              "    <tr>\n",
              "      <th>246</th>\n",
              "      <td>697</td>\n",
              "      <td>air traffic controller</td>\n",
              "      <td>{'query_id': '697', 'title': 'air traffic cont...</td>\n",
              "      <td>[{'begin': 0, 'end': 22, 'mention': 'air traff...</td>\n",
              "    </tr>\n",
              "    <tr>\n",
              "      <th>247</th>\n",
              "      <td>698</td>\n",
              "      <td>literacy rates Africa</td>\n",
              "      <td>{'query_id': '698', 'title': 'literacy rates A...</td>\n",
              "      <td>[{'begin': 0, 'end': 8, 'mention': 'literacy',...</td>\n",
              "    </tr>\n",
              "    <tr>\n",
              "      <th>248</th>\n",
              "      <td>699</td>\n",
              "      <td>term limits</td>\n",
              "      <td>{'query_id': '699', 'title': 'term limits', 'd...</td>\n",
              "      <td>[{'begin': 0, 'end': 4, 'mention': 'term', 'ur...</td>\n",
              "    </tr>\n",
              "    <tr>\n",
              "      <th>249</th>\n",
              "      <td>700</td>\n",
              "      <td>gasoline tax U.S.</td>\n",
              "      <td>{'query_id': '700', 'title': 'gasoline tax U.S...</td>\n",
              "      <td>[{'begin': 0, 'end': 8, 'mention': 'gasoline',...</td>\n",
              "    </tr>\n",
              "  </tbody>\n",
              "</table>\n",
              "<p>250 rows × 4 columns</p>\n",
              "</div>"
            ],
            "text/plain": [
              "     qid                          query  \\\n",
              "0    301  International Organized Crime   \n",
              "1    302   Poliomyelitis and Post-Polio   \n",
              "2    303  Hubble Telescope Achievements   \n",
              "3    304   Endangered Species (Mammals)   \n",
              "4    305        Most Dangerous Vehicles   \n",
              "..   ...                            ...   \n",
              "245  696         safety plastic surgery   \n",
              "246  697         air traffic controller   \n",
              "247  698          literacy rates Africa   \n",
              "248  699                    term limits   \n",
              "249  700              gasoline tax U.S.   \n",
              "\n",
              "                                        original_query  \\\n",
              "0    {'query_id': '301', 'title': 'International Or...   \n",
              "1    {'query_id': '302', 'title': 'Poliomyelitis an...   \n",
              "2    {'query_id': '303', 'title': 'Hubble Telescope...   \n",
              "3    {'query_id': '304', 'title': 'Endangered Speci...   \n",
              "4    {'query_id': '305', 'title': 'Most Dangerous V...   \n",
              "..                                                 ...   \n",
              "245  {'query_id': '696', 'title': 'safety plastic s...   \n",
              "246  {'query_id': '697', 'title': 'air traffic cont...   \n",
              "247  {'query_id': '698', 'title': 'literacy rates A...   \n",
              "248  {'query_id': '699', 'title': 'term limits', 'd...   \n",
              "249  {'query_id': '700', 'title': 'gasoline tax U.S...   \n",
              "\n",
              "                                              entities  \n",
              "0                                                   []  \n",
              "1                                                   []  \n",
              "2                                                   []  \n",
              "3                                                   []  \n",
              "4                                                   []  \n",
              "..                                                 ...  \n",
              "245  [{'begin': 7, 'end': 22, 'mention': 'plastic s...  \n",
              "246  [{'begin': 0, 'end': 22, 'mention': 'air traff...  \n",
              "247  [{'begin': 0, 'end': 8, 'mention': 'literacy',...  \n",
              "248  [{'begin': 0, 'end': 4, 'mention': 'term', 'ur...  \n",
              "249  [{'begin': 0, 'end': 8, 'mention': 'gasoline',...  \n",
              "\n",
              "[250 rows x 4 columns]"
            ]
          },
          "execution_count": 4,
          "metadata": {},
          "output_type": "execute_result"
        }
      ],
      "source": [
        "query_entity_linking = tira.pt.transform_queries('ir-benchmarks/marcel-gohsen/entity-linking', dataset)\n",
        "query_entity_linking(topics)"
      ]
    },
    {
      "cell_type": "code",
      "execution_count": 5,
      "metadata": {
        "colab": {
          "base_uri": "https://localhost:8080/"
        },
        "id": "08x9c7tjWTAe",
        "outputId": "10092391-6a28-4ecd-fe76-c9120e15af80"
      },
      "outputs": [
        {
          "data": {
            "text/plain": [
              "{'qid': '698',\n",
              " 'query': 'literacy rates Africa',\n",
              " 'original_query': {'query_id': '698',\n",
              "  'title': 'literacy rates Africa',\n",
              "  'description': 'What are literacy rates in African countries?',\n",
              "  'narrative': 'A relevant document will contain information about the\\nliteracy rate in an African country.\\nGeneral education levels that do not specifically include literacy rates\\nare not relevant.'},\n",
              " 'entities': [{'begin': 0,\n",
              "   'end': 8,\n",
              "   'mention': 'literacy',\n",
              "   'url': 'https://en.wikipedia.org/wiki/Literacy',\n",
              "   'score': 0.710061993323795},\n",
              "  {'begin': 0,\n",
              "   'end': 14,\n",
              "   'mention': 'literacy rates',\n",
              "   'url': 'https://en.wikipedia.org/wiki/List_of_countries_by_literacy_rate',\n",
              "   'score': 0.09090909090909001},\n",
              "  {'begin': 9,\n",
              "   'end': 14,\n",
              "   'mention': 'rates',\n",
              "   'url': 'https://en.wikipedia.org/wiki/Rates_(Póvoa_de_Varzim)',\n",
              "   'score': 0.012711864406779001}]}"
            ]
          },
          "execution_count": 5,
          "metadata": {},
          "output_type": "execute_result"
        }
      ],
      "source": [
        "query_entity_linking(topics).iloc[247].to_dict()"
      ]
    },
    {
      "cell_type": "code",
      "execution_count": 6,
      "metadata": {
        "colab": {
          "base_uri": "https://localhost:8080/"
        },
        "id": "KubJXyAsV8cX",
        "outputId": "03ddd508-d0e2-4019-a0c8-71bad902f694"
      },
      "outputs": [
        {
          "data": {
            "text/plain": [
              "{'qid': '700',\n",
              " 'query': 'gasoline tax U.S.',\n",
              " 'original_query': {'query_id': '700',\n",
              "  'title': 'gasoline tax U.S.',\n",
              "  'description': 'What are the arguments for and against an increase in gasoline\\ntaxes in the U.S.?',\n",
              "  'narrative': 'Relevant documents present reasons for or against raising gasoline taxes\\nin the U.S.  Documents discussing rises or decreases in the price of\\ngasoline are not relevant.'},\n",
              " 'entities': [{'begin': 0,\n",
              "   'end': 8,\n",
              "   'mention': 'gasoline',\n",
              "   'url': 'https://en.wikipedia.org/wiki/Gasoline',\n",
              "   'score': 0.838221076377699},\n",
              "  {'begin': 0,\n",
              "   'end': 12,\n",
              "   'mention': 'gasoline tax',\n",
              "   'url': 'https://en.wikipedia.org/wiki/Fuel_tax',\n",
              "   'score': 0.106382978723404},\n",
              "  {'begin': 0,\n",
              "   'end': 8,\n",
              "   'mention': 'gasoline',\n",
              "   'url': 'https://en.wikipedia.org/wiki/Gasoline_(Theory_of_a_Deadman_album)',\n",
              "   'score': 0.014502094747019},\n",
              "  {'begin': 0,\n",
              "   'end': 8,\n",
              "   'mention': 'gasoline',\n",
              "   'url': 'https://en.wikipedia.org/wiki/Gasoline_(Seether_song)',\n",
              "   'score': 0.004834031582339001},\n",
              "  {'begin': 0,\n",
              "   'end': 8,\n",
              "   'mention': 'gasoline',\n",
              "   'url': 'https://en.wikipedia.org/wiki/Gasoline_(film)',\n",
              "   'score': 0.004834031582339001},\n",
              "  {'begin': 0,\n",
              "   'end': 8,\n",
              "   'mention': 'gasoline',\n",
              "   'url': 'https://en.wikipedia.org/wiki/Gasoline_(Halsey_song)',\n",
              "   'score': 0.003222687721559},\n",
              "  {'begin': 0,\n",
              "   'end': 8,\n",
              "   'mention': 'gasoline',\n",
              "   'url': 'https://en.wikipedia.org/wiki/Gasoline_(band)',\n",
              "   'score': 0.002255881405091},\n",
              "  {'begin': 0,\n",
              "   'end': 8,\n",
              "   'mention': 'gasoline',\n",
              "   'url': 'https://en.wikipedia.org/wiki/Gasoline_(1913_song)',\n",
              "   'score': 0.0006445375443119562},\n",
              "  {'begin': 0,\n",
              "   'end': 8,\n",
              "   'mention': 'gasoline',\n",
              "   'url': 'https://en.wikipedia.org/wiki/Gasoline_(the_Hard_Lessons_album)',\n",
              "   'score': 0.0006445375443119562},\n",
              "  {'begin': 0,\n",
              "   'end': 8,\n",
              "   'mention': 'gasoline',\n",
              "   'url': 'https://en.wikipedia.org/wiki/Gasoline_(magazine)',\n",
              "   'score': 0.0003222687721559781},\n",
              "  {'begin': 0,\n",
              "   'end': 8,\n",
              "   'mention': 'gasoline',\n",
              "   'url': 'https://en.wikipedia.org/wiki/Gasoline,_Texas',\n",
              "   'score': 0.0003222687721559781}]}"
            ]
          },
          "execution_count": 6,
          "metadata": {},
          "output_type": "execute_result"
        }
      ],
      "source": [
        "query_entity_linking(topics).iloc[249].to_dict()"
      ]
    },
    {
      "cell_type": "markdown",
      "metadata": {},
      "source": [
        "# Query Interpretation"
      ]
    },
    {
      "cell_type": "code",
      "execution_count": 7,
      "metadata": {},
      "outputs": [
        {
          "name": "stdout",
          "output_type": "stream",
          "text": [
            "Download from the Incubator: https://files.webis.de/data-in-production/data-research/tira-zenodo-dump-preparation/query-processors-in-progress/marcel-gohsen-query-interpretation-trec-core.zip\n",
            "\tThis is only used for last spot checks before archival to Zenodo.\n"
          ]
        },
        {
          "name": "stderr",
          "output_type": "stream",
          "text": [
            "Download: 100%|██████████| 98.5k/98.5k [00:00<00:00, 1.92MiB/s]"
          ]
        },
        {
          "name": "stdout",
          "output_type": "stream",
          "text": [
            "Download finished. Extract...\n",
            "Extraction finished:  /root/.tira/extracted_runs/ir-benchmarks/disks45-nocr-trec-robust-2004-20230209-training/marcel-gohsen\n"
          ]
        },
        {
          "name": "stderr",
          "output_type": "stream",
          "text": [
            "\n"
          ]
        },
        {
          "data": {
            "text/html": [
              "<div>\n",
              "<style scoped>\n",
              "    .dataframe tbody tr th:only-of-type {\n",
              "        vertical-align: middle;\n",
              "    }\n",
              "\n",
              "    .dataframe tbody tr th {\n",
              "        vertical-align: top;\n",
              "    }\n",
              "\n",
              "    .dataframe thead th {\n",
              "        text-align: right;\n",
              "    }\n",
              "</style>\n",
              "<table border=\"1\" class=\"dataframe\">\n",
              "  <thead>\n",
              "    <tr style=\"text-align: right;\">\n",
              "      <th></th>\n",
              "      <th>qid</th>\n",
              "      <th>query</th>\n",
              "      <th>original_query</th>\n",
              "      <th>interpretations</th>\n",
              "    </tr>\n",
              "  </thead>\n",
              "  <tbody>\n",
              "    <tr>\n",
              "      <th>0</th>\n",
              "      <td>301</td>\n",
              "      <td>International Organized Crime</td>\n",
              "      <td>{'query_id': '301', 'title': 'International Or...</td>\n",
              "      <td>[{'id': 0, 'interpretation': ['international',...</td>\n",
              "    </tr>\n",
              "    <tr>\n",
              "      <th>1</th>\n",
              "      <td>302</td>\n",
              "      <td>Poliomyelitis and Post-Polio</td>\n",
              "      <td>{'query_id': '302', 'title': 'Poliomyelitis an...</td>\n",
              "      <td>[{'id': 0, 'interpretation': ['https://en.wiki...</td>\n",
              "    </tr>\n",
              "    <tr>\n",
              "      <th>2</th>\n",
              "      <td>303</td>\n",
              "      <td>Hubble Telescope Achievements</td>\n",
              "      <td>{'query_id': '303', 'title': 'Hubble Telescope...</td>\n",
              "      <td>[{'id': 0, 'interpretation': ['https://en.wiki...</td>\n",
              "    </tr>\n",
              "    <tr>\n",
              "      <th>3</th>\n",
              "      <td>304</td>\n",
              "      <td>Endangered Species (Mammals)</td>\n",
              "      <td>{'query_id': '304', 'title': 'Endangered Speci...</td>\n",
              "      <td>[{'id': 0, 'interpretation': ['https://en.wiki...</td>\n",
              "    </tr>\n",
              "    <tr>\n",
              "      <th>4</th>\n",
              "      <td>305</td>\n",
              "      <td>Most Dangerous Vehicles</td>\n",
              "      <td>{'query_id': '305', 'title': 'Most Dangerous V...</td>\n",
              "      <td>[{'id': 0, 'interpretation': ['most dangerous'...</td>\n",
              "    </tr>\n",
              "    <tr>\n",
              "      <th>...</th>\n",
              "      <td>...</td>\n",
              "      <td>...</td>\n",
              "      <td>...</td>\n",
              "      <td>...</td>\n",
              "    </tr>\n",
              "    <tr>\n",
              "      <th>245</th>\n",
              "      <td>696</td>\n",
              "      <td>safety plastic surgery</td>\n",
              "      <td>{'query_id': '696', 'title': 'safety plastic s...</td>\n",
              "      <td>[{'id': 0, 'interpretation': ['safety', 'https...</td>\n",
              "    </tr>\n",
              "    <tr>\n",
              "      <th>246</th>\n",
              "      <td>697</td>\n",
              "      <td>air traffic controller</td>\n",
              "      <td>{'query_id': '697', 'title': 'air traffic cont...</td>\n",
              "      <td>[{'id': 0, 'interpretation': ['https://en.wiki...</td>\n",
              "    </tr>\n",
              "    <tr>\n",
              "      <th>247</th>\n",
              "      <td>698</td>\n",
              "      <td>literacy rates Africa</td>\n",
              "      <td>{'query_id': '698', 'title': 'literacy rates A...</td>\n",
              "      <td>[{'id': 0, 'interpretation': ['literacy rates'...</td>\n",
              "    </tr>\n",
              "    <tr>\n",
              "      <th>248</th>\n",
              "      <td>699</td>\n",
              "      <td>term limits</td>\n",
              "      <td>{'query_id': '699', 'title': 'term limits', 'd...</td>\n",
              "      <td>[{'id': 0, 'interpretation': ['https://en.wiki...</td>\n",
              "    </tr>\n",
              "    <tr>\n",
              "      <th>249</th>\n",
              "      <td>700</td>\n",
              "      <td>gasoline tax U.S.</td>\n",
              "      <td>{'query_id': '700', 'title': 'gasoline tax U.S...</td>\n",
              "      <td>[{'id': 0, 'interpretation': ['https://en.wiki...</td>\n",
              "    </tr>\n",
              "  </tbody>\n",
              "</table>\n",
              "<p>250 rows × 4 columns</p>\n",
              "</div>"
            ],
            "text/plain": [
              "     qid                          query  \\\n",
              "0    301  International Organized Crime   \n",
              "1    302   Poliomyelitis and Post-Polio   \n",
              "2    303  Hubble Telescope Achievements   \n",
              "3    304   Endangered Species (Mammals)   \n",
              "4    305        Most Dangerous Vehicles   \n",
              "..   ...                            ...   \n",
              "245  696         safety plastic surgery   \n",
              "246  697         air traffic controller   \n",
              "247  698          literacy rates Africa   \n",
              "248  699                    term limits   \n",
              "249  700              gasoline tax U.S.   \n",
              "\n",
              "                                        original_query  \\\n",
              "0    {'query_id': '301', 'title': 'International Or...   \n",
              "1    {'query_id': '302', 'title': 'Poliomyelitis an...   \n",
              "2    {'query_id': '303', 'title': 'Hubble Telescope...   \n",
              "3    {'query_id': '304', 'title': 'Endangered Speci...   \n",
              "4    {'query_id': '305', 'title': 'Most Dangerous V...   \n",
              "..                                                 ...   \n",
              "245  {'query_id': '696', 'title': 'safety plastic s...   \n",
              "246  {'query_id': '697', 'title': 'air traffic cont...   \n",
              "247  {'query_id': '698', 'title': 'literacy rates A...   \n",
              "248  {'query_id': '699', 'title': 'term limits', 'd...   \n",
              "249  {'query_id': '700', 'title': 'gasoline tax U.S...   \n",
              "\n",
              "                                       interpretations  \n",
              "0    [{'id': 0, 'interpretation': ['international',...  \n",
              "1    [{'id': 0, 'interpretation': ['https://en.wiki...  \n",
              "2    [{'id': 0, 'interpretation': ['https://en.wiki...  \n",
              "3    [{'id': 0, 'interpretation': ['https://en.wiki...  \n",
              "4    [{'id': 0, 'interpretation': ['most dangerous'...  \n",
              "..                                                 ...  \n",
              "245  [{'id': 0, 'interpretation': ['safety', 'https...  \n",
              "246  [{'id': 0, 'interpretation': ['https://en.wiki...  \n",
              "247  [{'id': 0, 'interpretation': ['literacy rates'...  \n",
              "248  [{'id': 0, 'interpretation': ['https://en.wiki...  \n",
              "249  [{'id': 0, 'interpretation': ['https://en.wiki...  \n",
              "\n",
              "[250 rows x 4 columns]"
            ]
          },
          "execution_count": 7,
          "metadata": {},
          "output_type": "execute_result"
        }
      ],
      "source": [
        "query_interpretation = tira.pt.transform_queries('ir-benchmarks/marcel-gohsen/query-interpretation', dataset)\n",
        "query_interpretation(topics)"
      ]
    },
    {
      "cell_type": "code",
      "execution_count": 8,
      "metadata": {},
      "outputs": [
        {
          "data": {
            "text/plain": [
              "{'qid': '698',\n",
              " 'query': 'literacy rates Africa',\n",
              " 'original_query': {'query_id': '698',\n",
              "  'title': 'literacy rates Africa',\n",
              "  'description': 'What are literacy rates in African countries?',\n",
              "  'narrative': 'A relevant document will contain information about the\\nliteracy rate in an African country.\\nGeneral education levels that do not specifically include literacy rates\\nare not relevant.'},\n",
              " 'interpretations': [{'id': 0,\n",
              "   'interpretation': ['literacy rates',\n",
              "    'https://en.wikipedia.org/wiki/Africa'],\n",
              "   'relevance': 1.017462925635508,\n",
              "   'containedEntities': ['https://en.wikipedia.org/wiki/Africa'],\n",
              "   'contextWords': ['literacy', 'rates'],\n",
              "   'score': 1.017462925635508},\n",
              "  {'id': 0,\n",
              "   'interpretation': ['https://en.wikipedia.org/wiki/List_of_countries_by_literacy_rate',\n",
              "    'https://en.wikipedia.org/wiki/Africa'],\n",
              "   'relevance': 0.710923257536899,\n",
              "   'containedEntities': ['https://en.wikipedia.org/wiki/List_of_countries_by_literacy_rate',\n",
              "    'https://en.wikipedia.org/wiki/Africa'],\n",
              "   'contextWords': [],\n",
              "   'score': 0.710923257536899},\n",
              "  {'id': 0,\n",
              "   'interpretation': ['https://en.wikipedia.org/wiki/List_of_countries_by_literacy_rate',\n",
              "    'africa'],\n",
              "   'relevance': 0.6129202512020191,\n",
              "   'containedEntities': ['https://en.wikipedia.org/wiki/List_of_countries_by_literacy_rate'],\n",
              "   'contextWords': ['africa'],\n",
              "   'score': 0.6129202512020191}]}"
            ]
          },
          "execution_count": 8,
          "metadata": {},
          "output_type": "execute_result"
        }
      ],
      "source": [
        "query_interpretation(topics).iloc[247].to_dict()"
      ]
    },
    {
      "cell_type": "code",
      "execution_count": 9,
      "metadata": {},
      "outputs": [
        {
          "data": {
            "text/plain": [
              "{'qid': '700',\n",
              " 'query': 'gasoline tax U.S.',\n",
              " 'original_query': {'query_id': '700',\n",
              "  'title': 'gasoline tax U.S.',\n",
              "  'description': 'What are the arguments for and against an increase in gasoline\\ntaxes in the U.S.?',\n",
              "  'narrative': 'Relevant documents present reasons for or against raising gasoline taxes\\nin the U.S.  Documents discussing rises or decreases in the price of\\ngasoline are not relevant.'},\n",
              " 'interpretations': [{'id': 0,\n",
              "   'interpretation': ['https://en.wikipedia.org/wiki/Fuel_tax', 'u.s.'],\n",
              "   'relevance': 0.106382978723404,\n",
              "   'containedEntities': ['https://en.wikipedia.org/wiki/Fuel_tax'],\n",
              "   'contextWords': ['u.s.'],\n",
              "   'score': 0.106382978723404}]}"
            ]
          },
          "execution_count": 9,
          "metadata": {},
          "output_type": "execute_result"
        }
      ],
      "source": [
        "query_interpretation(topics).iloc[249].to_dict()"
      ]
    }
  ],
  "metadata": {
    "colab": {
      "provenance": []
    },
    "kernelspec": {
      "display_name": "Python 3",
      "name": "python3"
    },
    "language_info": {
      "codemirror_mode": {
        "name": "ipython",
        "version": 3
      },
      "file_extension": ".py",
      "mimetype": "text/x-python",
      "name": "python",
      "nbconvert_exporter": "python",
      "pygments_lexer": "ipython3",
      "version": "3.10.12"
    }
  },
  "nbformat": 4,
  "nbformat_minor": 0
}
