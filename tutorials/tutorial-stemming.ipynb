{
 "cells": [
  {
   "cell_type": "markdown",
   "metadata": {
    "id": "U1Kz0xBDyzUU"
   },
   "source": [
    "# IR Lab Tutorial: Stemming\n",
    "\n",
    "This tutorial shows how to use a stemmer in PyTerrier.\n",
    "\n",
    "**Attention:** The scenario below is cherry-picked to explain the concept of stopword lists with a minimal example.\n"
   ]
  },
  {
   "cell_type": "markdown",
   "metadata": {},
   "source": [
    "## Preparation: Install dependencies"
   ]
  },
  {
   "cell_type": "code",
   "execution_count": null,
   "metadata": {},
   "outputs": [],
   "source": [
    "# This is only needed in Google Colab, in a dev container, everything should be installed already\n",
    "!pip3 install python-terrier"
   ]
  },
  {
   "cell_type": "markdown",
   "metadata": {},
   "source": [
    "## Our Scenario\n",
    "\n",
    "We want to build a search engine that can generalize word forms of the same word stem (e.g. \"producer\" and \"produces\")."
   ]
  },
  {
   "cell_type": "code",
   "execution_count": 3,
   "metadata": {
    "id": "R_mCYFH7wR7Z"
   },
   "outputs": [],
   "source": [
    "import pyterrier as pt\n",
    "import pandas as pd\n",
    "pd.set_option('display.max_colwidth', 0)\n",
    "\n",
    "if not pt.started():\n",
    "    pt.init(boot_packages=['mam10eks:custom-terrier-token-processing:0.0.1'])\n",
    "    from jnius import autoclass"
   ]
  },
  {
   "cell_type": "markdown",
   "metadata": {},
   "source": [
    "Try stemming some words with the Porter stemmer."
   ]
  },
  {
   "cell_type": "code",
   "execution_count": null,
   "metadata": {},
   "outputs": [
    {
     "name": "stdout",
     "output_type": "stream",
     "text": [
      "are => ar\n",
      "producer => produc\n",
      "produces => produc\n",
      "corpora => corpu\n"
     ]
    }
   ],
   "source": [
    "def stem_porter(t):\n",
    "    stemmer = autoclass(\"org.terrier.terms.PorterStemmer\")()\n",
    "    return stemmer.stem(t)\n",
    "\n",
    "print('are =>', stem_porter('are'))\n",
    "print('producer =>', stem_porter('producer'))\n",
    "print('produces =>', stem_porter('produces'))\n",
    "print('corpora =>', stem_porter('corpus'))\n",
    "# Feel free to try out other words, too."
   ]
  },
  {
   "cell_type": "markdown",
   "metadata": {},
   "source": [
    "Now try to stem the same words with the Krovetz stemmer. Do you notice differences?"
   ]
  },
  {
   "cell_type": "code",
   "execution_count": null,
   "metadata": {},
   "outputs": [
    {
     "name": "stdout",
     "output_type": "stream",
     "text": [
      "are => are\n",
      "producer => producer\n",
      "produces => produce\n",
      "corpora => corpus\n"
     ]
    }
   ],
   "source": [
    "def stem_krovetz(t):\n",
    "    stemmer = autoclass(\"org.terrier.terms.LemurKrovetzStemmer\")()\n",
    "    return stemmer.stem(t)\n",
    "\n",
    "print('are =>', stem_krovetz('are'))\n",
    "print('producer =>', stem_krovetz('producer'))\n",
    "print('produces =>', stem_krovetz('produces'))\n",
    "print('corpora =>', stem_krovetz('corpus'))\n",
    "# Feel free to try out other words, too."
   ]
  },
  {
   "cell_type": "markdown",
   "metadata": {},
   "source": [
    "We now again build a little cherry-picked test collection to see which stemmer works best (or if stemming is needed at all)."
   ]
  },
  {
   "cell_type": "code",
   "execution_count": 8,
   "metadata": {},
   "outputs": [],
   "source": [
    "documents = [\n",
    "    {'docno': 'd1', 'text': 'producer'},\n",
    "    {'docno': 'd2', 'text': 'produce'},\n",
    "    {'docno': 'd2', 'text': 'produces'},\n",
    "    {'docno': 'd4', 'text': 'tbd'},\n",
    "]\n",
    "\n",
    "topics = pd.DataFrame([\n",
    "    {'qid': '1', 'query': 'produces'},\n",
    "])\n",
    "\n",
    "qrels = pd.DataFrame([\n",
    "    {'qid': '1', 'docno': 'd1', 'relevance': 1},\n",
    "    {'qid': '1', 'docno': 'd2', 'relevance': 1},\n",
    "    {'qid': '1', 'docno': 'd3', 'relevance': 1},\n",
    "])"
   ]
  },
  {
   "cell_type": "markdown",
   "metadata": {},
   "source": [
    "Notice how the query uses a different word form than used in the documents. Still, we would like to find the same documents."
   ]
  },
  {
   "cell_type": "markdown",
   "metadata": {},
   "source": [
    "Create an index and corresponding BM25 retrieval model that uses no stemmer."
   ]
  },
  {
   "cell_type": "code",
   "execution_count": null,
   "metadata": {},
   "outputs": [
    {
     "data": {
      "text/html": [
       "<div>\n",
       "<style scoped>\n",
       "    .dataframe tbody tr th:only-of-type {\n",
       "        vertical-align: middle;\n",
       "    }\n",
       "\n",
       "    .dataframe tbody tr th {\n",
       "        vertical-align: top;\n",
       "    }\n",
       "\n",
       "    .dataframe thead th {\n",
       "        text-align: right;\n",
       "    }\n",
       "</style>\n",
       "<table border=\"1\" class=\"dataframe\">\n",
       "  <thead>\n",
       "    <tr style=\"text-align: right;\">\n",
       "      <th></th>\n",
       "      <th>name</th>\n",
       "      <th>ndcg_cut_5</th>\n",
       "    </tr>\n",
       "  </thead>\n",
       "  <tbody>\n",
       "    <tr>\n",
       "      <th>0</th>\n",
       "      <td>BR(BM25)</td>\n",
       "      <td>0.469279</td>\n",
       "    </tr>\n",
       "  </tbody>\n",
       "</table>\n",
       "</div>"
      ],
      "text/plain": [
       "       name  ndcg_cut_5\n",
       "0  BR(BM25)  0.469279  "
      ]
     },
     "execution_count": 9,
     "metadata": {},
     "output_type": "execute_result"
    }
   ],
   "source": [
    "indexer_no_stemming = pt.IterDictIndexer(\"/tmp/index-no-stemming\", overwrite=True, stemmer=None)\n",
    "index_ref_no_stemming = indexer_no_stemming.index(documents)\n",
    "index_no_stemming = pt.IndexFactory.of(index_ref_no_stemming)\n",
    "\n",
    "bm25_no_stemming = pt.BatchRetrieve(index_no_stemming, wmodel=\"BM25\")\n",
    "\n",
    "pt.Experiment([bm25_no_stemming], topics, qrels, eval_metrics=['ndcg_cut_5'])"
   ]
  },
  {
   "cell_type": "markdown",
   "metadata": {},
   "source": [
    "Create an index and BM25 model that uses the Porter stemmer."
   ]
  },
  {
   "cell_type": "code",
   "execution_count": null,
   "metadata": {},
   "outputs": [
    {
     "data": {
      "text/html": [
       "<div>\n",
       "<style scoped>\n",
       "    .dataframe tbody tr th:only-of-type {\n",
       "        vertical-align: middle;\n",
       "    }\n",
       "\n",
       "    .dataframe tbody tr th {\n",
       "        vertical-align: top;\n",
       "    }\n",
       "\n",
       "    .dataframe thead th {\n",
       "        text-align: right;\n",
       "    }\n",
       "</style>\n",
       "<table border=\"1\" class=\"dataframe\">\n",
       "  <thead>\n",
       "    <tr style=\"text-align: right;\">\n",
       "      <th></th>\n",
       "      <th>name</th>\n",
       "      <th>ndcg_cut_5</th>\n",
       "    </tr>\n",
       "  </thead>\n",
       "  <tbody>\n",
       "    <tr>\n",
       "      <th>0</th>\n",
       "      <td>BR(BM25)</td>\n",
       "      <td>0.765361</td>\n",
       "    </tr>\n",
       "  </tbody>\n",
       "</table>\n",
       "</div>"
      ],
      "text/plain": [
       "       name  ndcg_cut_5\n",
       "0  BR(BM25)  0.765361  "
      ]
     },
     "execution_count": 10,
     "metadata": {},
     "output_type": "execute_result"
    }
   ],
   "source": [
    "indexer_porter = pt.IterDictIndexer(\"/tmp/index-porter\", overwrite=True, stemmer='PorterStemmer')\n",
    "index_ref_porter = indexer_porter.index(documents)\n",
    "index_porter = pt.IndexFactory.of(index_ref_porter)\n",
    "\n",
    "bm25_porter = pt.BatchRetrieve(index_porter, wmodel=\"BM25\")\n",
    "\n",
    "pt.Experiment([bm25_porter], topics, qrels, eval_metrics=['ndcg_cut_5'])"
   ]
  },
  {
   "cell_type": "markdown",
   "metadata": {},
   "source": [
    "Create an index and BM25 model that uses the Krovetz stemmer."
   ]
  },
  {
   "cell_type": "code",
   "execution_count": null,
   "metadata": {},
   "outputs": [
    {
     "data": {
      "text/html": [
       "<div>\n",
       "<style scoped>\n",
       "    .dataframe tbody tr th:only-of-type {\n",
       "        vertical-align: middle;\n",
       "    }\n",
       "\n",
       "    .dataframe tbody tr th {\n",
       "        vertical-align: top;\n",
       "    }\n",
       "\n",
       "    .dataframe thead th {\n",
       "        text-align: right;\n",
       "    }\n",
       "</style>\n",
       "<table border=\"1\" class=\"dataframe\">\n",
       "  <thead>\n",
       "    <tr style=\"text-align: right;\">\n",
       "      <th></th>\n",
       "      <th>name</th>\n",
       "      <th>ndcg_cut_5</th>\n",
       "    </tr>\n",
       "  </thead>\n",
       "  <tbody>\n",
       "    <tr>\n",
       "      <th>0</th>\n",
       "      <td>BR(BM25)</td>\n",
       "      <td>0.469279</td>\n",
       "    </tr>\n",
       "  </tbody>\n",
       "</table>\n",
       "</div>"
      ],
      "text/plain": [
       "       name  ndcg_cut_5\n",
       "0  BR(BM25)  0.469279  "
      ]
     },
     "execution_count": 11,
     "metadata": {},
     "output_type": "execute_result"
    }
   ],
   "source": [
    "indexer_krovetz = pt.IterDictIndexer(\"/tmp/index-krovetz\", overwrite=True, stemmer='LemurKrovetzStemmer')\n",
    "index_ref_krovetz = indexer_krovetz.index(documents)\n",
    "index_krovetz = pt.IndexFactory.of(index_ref_krovetz)\n",
    "\n",
    "bm25 = pt.BatchRetrieve(index_krovetz, wmodel=\"BM25\")\n",
    "\n",
    "pt.Experiment([bm25_krovetz], topics, qrels, eval_metrics=['ndcg_cut_5'])"
   ]
  },
  {
   "cell_type": "markdown",
   "metadata": {},
   "source": [
    "With PyTerrier, we can also directly compare the three options (no stemmer, Porter stemmer, and Krovetz stemmer)."
   ]
  },
  {
   "cell_type": "code",
   "execution_count": null,
   "metadata": {},
   "outputs": [],
   "source": [
    "pt.Experiment([bm25_no_stemming, bm25_porter, bm25_krovetz], topics, qrels, eval_metrics=['ndcg_cut_5'], names=[\"no stemming\", \"Porter\", \"Krovetz\"])"
   ]
  },
  {
   "cell_type": "markdown",
   "metadata": {},
   "source": [
    "### Question 1\n",
    "\n",
    "With the observed effectiveness results, which stemmer would you choose and why?"
   ]
  },
  {
   "cell_type": "markdown",
   "metadata": {},
   "source": [
    "### TODO: Add your solution."
   ]
  },
  {
   "cell_type": "markdown",
   "metadata": {},
   "source": [
    "### Question 2\n",
    "\n",
    "Can you think of examples of two words with different meanings where the rule-based Porter stemmer could falsely reduce them to the same stem?"
   ]
  },
  {
   "cell_type": "markdown",
   "metadata": {},
   "source": [
    "### TODO: Add your solution."
   ]
  },
  {
   "cell_type": "markdown",
   "metadata": {},
   "source": [
    "### Question 3\n",
    "\n",
    "Update the experiment above to evaluate this word pair too. What do you observe? Is Porter still more effective?"
   ]
  },
  {
   "cell_type": "markdown",
   "metadata": {},
   "source": [
    "### TODO: Add your solution."
   ]
  }
 ],
 "metadata": {
  "colab": {
   "provenance": []
  },
  "kernelspec": {
   "display_name": "Python 3",
   "name": "python3"
  },
  "language_info": {
   "codemirror_mode": {
    "name": "ipython",
    "version": 3
   },
   "file_extension": ".py",
   "mimetype": "text/x-python",
   "name": "python",
   "nbconvert_exporter": "python",
   "pygments_lexer": "ipython3",
   "version": "3.10.12"
  }
 },
 "nbformat": 4,
 "nbformat_minor": 0
}
