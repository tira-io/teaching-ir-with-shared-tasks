{
 "cells": [
  {
   "cell_type": "code",
   "execution_count": 6,
   "metadata": {},
   "outputs": [
    {
     "name": "stdout",
     "output_type": "stream",
     "text": [
      "ChatNoir Chat uses ws_host from environment Environment variable\n",
      "ChatNoir Chat uses API key from Environment variable\n",
      "ChatNoir Chat uses model 'alpaca-en-7b' from Environment variable\n",
      "ChatNoir Chat uses endpoint 'https://chat.web.webis.de/' from {endpoint[1]}\n"
     ]
    }
   ],
   "source": [
    "import pandas as pd\n",
    "from chatnoir_api.chat import ChatNoirChatClient\n",
    "\n",
    "chatnoir_chat = ChatNoirChatClient()"
   ]
  },
  {
   "cell_type": "code",
   "execution_count": 4,
   "metadata": {},
   "outputs": [],
   "source": [
    "documents = [\n",
    "    {'docno': 'd1', 'text': 'The Golden Retriever is a Scottish breed of medium size.'},\n",
    "    {'docno': 'd2', 'text': 'Intelligent types of dogs are: (1) Border Collies, (2) Poodles, and (3) German Shepherds.'},\n",
    "    {'docno': 'd3', 'text': 'Poodles are a highly intelligent, energetic, and sociable.'},\n",
    "    {'docno': 'd4', 'text': 'The European Shorthair is medium-sized to large cat with a well-muscled chest.'},\n",
    "    {'docno': 'd5', 'text': 'The domestic canary is a small songbird.'}\n",
    "]\n",
    "\n",
    "topics = pd.DataFrame([\n",
    "    {'qid': '1', 'query': 'dog'},\n",
    "])\n",
    "\n",
    "qrels = pd.DataFrame([\n",
    "    {'qid': '1', 'docno': 'd1', 'relevance': 1}, #d1 is about an specific dog\n",
    "    {'qid': '1', 'docno': 'd2', 'relevance': 1}, #d1 is about multiple types of dogs\n",
    "    {'qid': '1', 'docno': 'd3', 'relevance': 1}, #d1 is about an specific dog\n",
    "])"
   ]
  },
  {
   "cell_type": "code",
   "execution_count": 3,
   "metadata": {},
   "outputs": [],
   "source": [
    "import pyterrier as pt\n",
    "import pandas as pd\n",
    "pd.set_option('display.max_colwidth', 0)\n",
    "\n",
    "if not pt.started():\n",
    "    pt.init(boot_packages=[\"com.github.terrierteam:terrier-prf:-SNAPSHOT\"])\n",
    "\n",
    "indexer = pt.IterDictIndexer(\"/tmp/index\", overwrite=True, blocks=True, meta={'docno': 100, 'text': 20480}, )\n",
    "index_ref = indexer.index(documents)\n",
    "index = pt.IndexFactory.of(index_ref)\n"
   ]
  },
  {
   "cell_type": "code",
   "execution_count": 7,
   "metadata": {},
   "outputs": [
    {
     "data": {
      "text/plain": [
       "\"I'm doing well, thank you for asking. How about you?\""
      ]
     },
     "execution_count": 7,
     "metadata": {},
     "output_type": "execute_result"
    }
   ],
   "source": [
    "chatnoir_chat.chat('How are you?')"
   ]
  },
  {
   "cell_type": "code",
   "execution_count": 8,
   "metadata": {},
   "outputs": [
    {
     "data": {
      "text/plain": [
       "'Labrador Retriever, German Shepherd, Golden Retriever, Poodle, Rottweiler, Yorkshire Terrier, Boxer, Bulldogs, Chihuahua, Siberian Husky, Doberman Pinscher, Great Dane, Cocker Spaniel, St. Bernard, Pug, German Shorthaired Pointer, Dachshund, Maltese, Siberian Husky, Chihuahua, Labrador Retriever, German Shepherd, Golden Retriever, Boxer, Bulldogs, Yorkshire Terrier, Great Dane, Cocker Spaniel, St. Bernard, Pug, German Shorthaired Pointer, Dachshund, Maltese.'"
      ]
     },
     "execution_count": 8,
     "metadata": {},
     "output_type": "execute_result"
    }
   ],
   "source": [
    "chatnoir_chat.chat('I have a search engine for animals. Please name specific breeds relevant for the query \"dog\".')"
   ]
  },
  {
   "cell_type": "code",
   "execution_count": 9,
   "metadata": {},
   "outputs": [],
   "source": [
    "def pseudo_document(query):\n",
    "    # return only first 100 characters ~= 10 terms. Hypothesis: the LLM outputs more important terms first.\n",
    "    # (this is cherry picked)\n",
    "    return chatnoir_chat.chat(f'I have a search engine for animals. Please name specific breeds relevant for the query \"{query}\".')[:100]"
   ]
  },
  {
   "cell_type": "code",
   "execution_count": 10,
   "metadata": {},
   "outputs": [],
   "source": [
    "# we only have one query for which we generate a pseudo relevant document\n",
    "llm_expansion_documents = [\n",
    "    {'docno': 'llm-expansion-for-query-1', 'text':  pseudo_document('dog')},\n",
    "]\n"
   ]
  },
  {
   "cell_type": "code",
   "execution_count": 11,
   "metadata": {},
   "outputs": [],
   "source": [
    "indexer = pt.IterDictIndexer('/tmp/llm-expansion-index', overwrite=True, blocks=True, meta={'docno': 100, 'text': 20480})\n",
    "index_ref = indexer.index(llm_expansion_documents)\n",
    "llm_index = pt.IndexFactory.of(index_ref)"
   ]
  },
  {
   "cell_type": "code",
   "execution_count": 17,
   "metadata": {},
   "outputs": [],
   "source": [
    "bm25 = pt.BatchRetrieve(index, wmodel=\"BM25\")\n",
    "\n",
    "bm25_bo1 = bm25 >> pt.rewrite.Bo1QueryExpansion(index) >> bm25"
   ]
  },
  {
   "cell_type": "code",
   "execution_count": 15,
   "metadata": {},
   "outputs": [],
   "source": [
    "# We make a pyterrier-transformer out o fthe expansion documents \n",
    "# so that we can use it in subsequent pipelines.\n",
    "llm_expansion = pt.Transformer.from_df(pd.DataFrame([\n",
    "    {'qid': '1', 'docno': 'llm-expansion-for-query-1'},\n",
    "]))\n",
    "\n",
    "bm25_llm_bo1 = llm_expansion >> pt.rewrite.Bo1QueryExpansion(llm_index) >> bm25"
   ]
  },
  {
   "cell_type": "code",
   "execution_count": 18,
   "metadata": {},
   "outputs": [
    {
     "data": {
      "text/html": [
       "<div>\n",
       "<style scoped>\n",
       "    .dataframe tbody tr th:only-of-type {\n",
       "        vertical-align: middle;\n",
       "    }\n",
       "\n",
       "    .dataframe tbody tr th {\n",
       "        vertical-align: top;\n",
       "    }\n",
       "\n",
       "    .dataframe thead th {\n",
       "        text-align: right;\n",
       "    }\n",
       "</style>\n",
       "<table border=\"1\" class=\"dataframe\">\n",
       "  <thead>\n",
       "    <tr style=\"text-align: right;\">\n",
       "      <th></th>\n",
       "      <th>name</th>\n",
       "      <th>ndcg_cut_5</th>\n",
       "    </tr>\n",
       "  </thead>\n",
       "  <tbody>\n",
       "    <tr>\n",
       "      <th>0</th>\n",
       "      <td>BM25</td>\n",
       "      <td>0.469279</td>\n",
       "    </tr>\n",
       "    <tr>\n",
       "      <th>1</th>\n",
       "      <td>BM25 &gt;&gt; Bo1 &gt;&gt; BM25</td>\n",
       "      <td>0.765361</td>\n",
       "    </tr>\n",
       "    <tr>\n",
       "      <th>2</th>\n",
       "      <td>Alpaca &gt;&gt; Bo1 &gt;&gt; BM25</td>\n",
       "      <td>1.000000</td>\n",
       "    </tr>\n",
       "  </tbody>\n",
       "</table>\n",
       "</div>"
      ],
      "text/plain": [
       "                    name  ndcg_cut_5\n",
       "0  BM25                   0.469279  \n",
       "1  BM25 >> Bo1 >> BM25    0.765361  \n",
       "2  Alpaca >> Bo1 >> BM25  1.000000  "
      ]
     },
     "execution_count": 18,
     "metadata": {},
     "output_type": "execute_result"
    }
   ],
   "source": [
    "pt.Experiment([bm25, bm25_bo1, bm25_llm_bo1], topics, qrels, eval_metrics=['ndcg_cut_5'], names=['BM25', 'BM25 >> Bo1 >> BM25', 'Alpaca >> Bo1 >> BM25'])"
   ]
  }
 ],
 "metadata": {
  "kernelspec": {
   "display_name": "Python 3",
   "language": "python",
   "name": "python3"
  },
  "language_info": {
   "codemirror_mode": {
    "name": "ipython",
    "version": 3
   },
   "file_extension": ".py",
   "mimetype": "text/x-python",
   "name": "python",
   "nbconvert_exporter": "python",
   "pygments_lexer": "ipython3",
   "version": "3.10.12"
  },
  "orig_nbformat": 4
 },
 "nbformat": 4,
 "nbformat_minor": 2
}
