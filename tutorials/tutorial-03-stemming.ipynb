{
  "cells": [
    {
      "cell_type": "markdown",
      "metadata": {
        "id": "U1Kz0xBDyzUU"
      },
      "source": [
        "# IR Lab WiSe 2023: Stemming\n",
        "\n",
        "This tutorial shows how to use a stemmer in PyTerrier.\n",
        "\n",
        "**Attention:** The scenario below is cherry-picked to explain the concept of stopword lists with a minimal example.\n"
      ]
    },
    {
      "cell_type": "code",
      "execution_count": 3,
      "metadata": {
        "id": "R_mCYFH7wR7Z"
      },
      "outputs": [],
      "source": [
        "import pyterrier as pt\n",
        "import pandas as pd\n",
        "pd.set_option('display.max_colwidth', 0)\n",
        "\n",
        "if not pt.started():\n",
        "    pt.init(boot_packages=['mam10eks:custom-terrier-token-processing:0.0.1'])\n",
        "    from jnius import autoclass"
      ]
    },
    {
      "cell_type": "code",
      "execution_count": 4,
      "metadata": {},
      "outputs": [
        {
          "name": "stdout",
          "output_type": "stream",
          "text": [
            "are => ar\n",
            "producer => produc\n",
            "produces => produc\n",
            "corpora => corpu\n"
          ]
        }
      ],
      "source": [
        "def stem_porter(t):\n",
        "    stemmer = autoclass(\"org.terrier.terms.PorterStemmer\")()\n",
        "    return stemmer.stem(t)\n",
        "\n",
        "print('are =>', stem_porter('are'))\n",
        "print('producer =>', stem_porter('producer'))\n",
        "print('produces =>', stem_porter('produces'))\n",
        "print('corpora =>', stem_porter('corpus'))"
      ]
    },
    {
      "cell_type": "code",
      "execution_count": 5,
      "metadata": {},
      "outputs": [
        {
          "name": "stdout",
          "output_type": "stream",
          "text": [
            "are => are\n",
            "producer => producer\n",
            "produces => produce\n",
            "corpora => corpus\n"
          ]
        }
      ],
      "source": [
        "def stem_krovetz(t):\n",
        "    stemmer = autoclass(\"org.terrier.terms.LemurKrovetzStemmer\")()\n",
        "    return stemmer.stem(t)\n",
        "\n",
        "print('are =>', stem_krovetz('are'))\n",
        "print('producer =>', stem_krovetz('producer'))\n",
        "print('produces =>', stem_krovetz('produces'))\n",
        "print('corpora =>', stem_krovetz('corpus'))"
      ]
    },
    {
      "cell_type": "code",
      "execution_count": 8,
      "metadata": {},
      "outputs": [],
      "source": [
        "documents = [\n",
        "    {'docno': 'd1', 'text': 'producer'},\n",
        "    {'docno': 'd2', 'text': 'produce'},\n",
        "    {'docno': 'd2', 'text': 'produces'},\n",
        "    {'docno': 'd4', 'text': 'tbd'},\n",
        "]\n",
        "\n",
        "topics = pd.DataFrame([\n",
        "    {'qid': '1', 'query': 'produces'},\n",
        "])\n",
        "\n",
        "qrels = pd.DataFrame([\n",
        "    {'qid': '1', 'docno': 'd1', 'relevance': 1},\n",
        "    {'qid': '1', 'docno': 'd2', 'relevance': 1},\n",
        "    {'qid': '1', 'docno': 'd3', 'relevance': 1},\n",
        "])"
      ]
    },
    {
      "cell_type": "code",
      "execution_count": 9,
      "metadata": {},
      "outputs": [
        {
          "data": {
            "text/html": [
              "<div>\n",
              "<style scoped>\n",
              "    .dataframe tbody tr th:only-of-type {\n",
              "        vertical-align: middle;\n",
              "    }\n",
              "\n",
              "    .dataframe tbody tr th {\n",
              "        vertical-align: top;\n",
              "    }\n",
              "\n",
              "    .dataframe thead th {\n",
              "        text-align: right;\n",
              "    }\n",
              "</style>\n",
              "<table border=\"1\" class=\"dataframe\">\n",
              "  <thead>\n",
              "    <tr style=\"text-align: right;\">\n",
              "      <th></th>\n",
              "      <th>name</th>\n",
              "      <th>ndcg_cut_5</th>\n",
              "    </tr>\n",
              "  </thead>\n",
              "  <tbody>\n",
              "    <tr>\n",
              "      <th>0</th>\n",
              "      <td>BR(BM25)</td>\n",
              "      <td>0.469279</td>\n",
              "    </tr>\n",
              "  </tbody>\n",
              "</table>\n",
              "</div>"
            ],
            "text/plain": [
              "       name  ndcg_cut_5\n",
              "0  BR(BM25)  0.469279  "
            ]
          },
          "execution_count": 9,
          "metadata": {},
          "output_type": "execute_result"
        }
      ],
      "source": [
        "indexer = pt.IterDictIndexer(\"/tmp/index\", overwrite=True, stemmer=None)\n",
        "index_ref = indexer.index(documents)\n",
        "index = pt.IndexFactory.of(index_ref)\n",
        "\n",
        "bm25 = pt.BatchRetrieve(index, wmodel=\"BM25\")\n",
        "\n",
        "pt.Experiment([bm25], topics, qrels, eval_metrics=['ndcg_cut_5'])"
      ]
    },
    {
      "cell_type": "code",
      "execution_count": 10,
      "metadata": {},
      "outputs": [
        {
          "data": {
            "text/html": [
              "<div>\n",
              "<style scoped>\n",
              "    .dataframe tbody tr th:only-of-type {\n",
              "        vertical-align: middle;\n",
              "    }\n",
              "\n",
              "    .dataframe tbody tr th {\n",
              "        vertical-align: top;\n",
              "    }\n",
              "\n",
              "    .dataframe thead th {\n",
              "        text-align: right;\n",
              "    }\n",
              "</style>\n",
              "<table border=\"1\" class=\"dataframe\">\n",
              "  <thead>\n",
              "    <tr style=\"text-align: right;\">\n",
              "      <th></th>\n",
              "      <th>name</th>\n",
              "      <th>ndcg_cut_5</th>\n",
              "    </tr>\n",
              "  </thead>\n",
              "  <tbody>\n",
              "    <tr>\n",
              "      <th>0</th>\n",
              "      <td>BR(BM25)</td>\n",
              "      <td>0.765361</td>\n",
              "    </tr>\n",
              "  </tbody>\n",
              "</table>\n",
              "</div>"
            ],
            "text/plain": [
              "       name  ndcg_cut_5\n",
              "0  BR(BM25)  0.765361  "
            ]
          },
          "execution_count": 10,
          "metadata": {},
          "output_type": "execute_result"
        }
      ],
      "source": [
        "indexer = pt.IterDictIndexer(\"/tmp/index\", overwrite=True, stemmer='PorterStemmer')\n",
        "index_ref = indexer.index(documents)\n",
        "index = pt.IndexFactory.of(index_ref)\n",
        "\n",
        "bm25 = pt.BatchRetrieve(index, wmodel=\"BM25\")\n",
        "\n",
        "pt.Experiment([bm25], topics, qrels, eval_metrics=['ndcg_cut_5'])"
      ]
    },
    {
      "cell_type": "code",
      "execution_count": 11,
      "metadata": {},
      "outputs": [
        {
          "data": {
            "text/html": [
              "<div>\n",
              "<style scoped>\n",
              "    .dataframe tbody tr th:only-of-type {\n",
              "        vertical-align: middle;\n",
              "    }\n",
              "\n",
              "    .dataframe tbody tr th {\n",
              "        vertical-align: top;\n",
              "    }\n",
              "\n",
              "    .dataframe thead th {\n",
              "        text-align: right;\n",
              "    }\n",
              "</style>\n",
              "<table border=\"1\" class=\"dataframe\">\n",
              "  <thead>\n",
              "    <tr style=\"text-align: right;\">\n",
              "      <th></th>\n",
              "      <th>name</th>\n",
              "      <th>ndcg_cut_5</th>\n",
              "    </tr>\n",
              "  </thead>\n",
              "  <tbody>\n",
              "    <tr>\n",
              "      <th>0</th>\n",
              "      <td>BR(BM25)</td>\n",
              "      <td>0.469279</td>\n",
              "    </tr>\n",
              "  </tbody>\n",
              "</table>\n",
              "</div>"
            ],
            "text/plain": [
              "       name  ndcg_cut_5\n",
              "0  BR(BM25)  0.469279  "
            ]
          },
          "execution_count": 11,
          "metadata": {},
          "output_type": "execute_result"
        }
      ],
      "source": [
        "indexer = pt.IterDictIndexer(\"/tmp/index\", overwrite=True, stemmer='LemurKrovetzStemmer')\n",
        "index_ref = indexer.index(documents)\n",
        "index = pt.IndexFactory.of(index_ref)\n",
        "\n",
        "bm25 = pt.BatchRetrieve(index, wmodel=\"BM25\")\n",
        "\n",
        "pt.Experiment([bm25], topics, qrels, eval_metrics=['ndcg_cut_5'])"
      ]
    }
  ],
  "metadata": {
    "colab": {
      "provenance": []
    },
    "kernelspec": {
      "display_name": "Python 3",
      "name": "python3"
    },
    "language_info": {
      "codemirror_mode": {
        "name": "ipython",
        "version": 3
      },
      "file_extension": ".py",
      "mimetype": "text/x-python",
      "name": "python",
      "nbconvert_exporter": "python",
      "pygments_lexer": "ipython3",
      "version": "3.10.12"
    }
  },
  "nbformat": 4,
  "nbformat_minor": 0
}
