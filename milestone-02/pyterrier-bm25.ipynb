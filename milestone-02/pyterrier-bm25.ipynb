{
 "cells": [
  {
   "cell_type": "markdown",
   "id": "8c3da078-f7fc-4d37-904c-532bb26d4321",
   "metadata": {},
   "source": [
    "# BM25 Retrieval with PyTerrier"
   ]
  },
  {
   "cell_type": "markdown",
   "id": "66fd2911-c97a-4f91-af28-8c7e381573b6",
   "metadata": {},
   "source": [
    "### Step 1: Import everything and load variables"
   ]
  },
  {
   "cell_type": "code",
   "execution_count": 2,
   "id": "7ae3c54f-aba1-45bf-b074-e78a99f6405f",
   "metadata": {},
   "outputs": [
    {
     "name": "stdout",
     "output_type": "stream",
     "text": [
      "I will use a small hardcoded example located in ./iranthology-dataset-tira.\n",
      "The output directory is /tmp/\n"
     ]
    }
   ],
   "source": [
    "import pyterrier as pt\n",
    "import pandas as pd\n",
    "\n",
    "# We use three methods from the tira third_party_integrations that help to mitigate common pitfalls:\n",
    "# - ensure_pyterrier_is_loaded:\n",
    "#    loads PyTerrier without internet connection\n",
    "#     (in TIRA, retrieval approaches have no access to the internet to improve reproducibility)\n",
    "#\n",
    "# - get_input_directory_and_output_directory:\n",
    "#   Your software is expected to read the data from an input directory and write the results (i.e., the run file) to an output directory.\n",
    "#   Both input and output directories are passes as arguments when the software is executed within TIRA,\n",
    "#   so this command ensures that you can run the same notebook for development as in TIRA by\n",
    "#   returning the passed input directory (that might be mounted) if the software is not executed in TIRA.\n",
    "#\n",
    "# - persist_and_normalize_run:\n",
    "#   Writing run files can come with some non-obvious edge cases (e.g., score ties).\n",
    "#   This method takes care of some frequent of those edge cases.\n",
    "#\n",
    "# You do not have to use any of those methods, in the end it is only \"generate an output from an input\".\n",
    "# We are of course also happy for pull requests that help to improve the handling of frequently used patterns.\n",
    "# Please find the documentation here: https://github.com/tira-io/tira/blob/main/python-client/tira/third_party_integrations.py\n",
    "#\n",
    "from tira.third_party_integrations import ensure_pyterrier_is_loaded, get_input_directory_and_output_directory, persist_and_normalize_run\n",
    "import json\n",
    "from tqdm import tqdm\n",
    "\n",
    "ensure_pyterrier_is_loaded()\n",
    "input_directory, output_directory = get_input_directory_and_output_directory('./iranthology-dataset-tira')\n"
   ]
  },
  {
   "cell_type": "code",
   "execution_count": 3,
   "id": "8f2a2aae",
   "metadata": {},
   "outputs": [
    {
     "name": "stdout",
     "output_type": "stream",
     "text": [
      "The input directory contains the following files:\n",
      "\n",
      "total 77M\n",
      "-rw-r--r-- 1 root root  77M May  3 05:57 documents.jsonl\n",
      "-rw-r--r-- 1 root root   41 May  3 05:57 metadata.json\n",
      "-rw-r--r-- 1 root root 1.6K May  3 05:57 queries.jsonl\n",
      "-rw-r--r-- 1 root root 2.1K May  3 05:57 queries.xml\n"
     ]
    }
   ],
   "source": [
    "print('The input directory contains the following files:\\n')\n",
    "!ls -lh {input_directory}"
   ]
  },
  {
   "cell_type": "markdown",
   "id": "8c563b0e-97ac-44a2-ba2f-18858f1506bb",
   "metadata": {},
   "source": [
    "### Step 2: Load the Data"
   ]
  },
  {
   "cell_type": "code",
   "execution_count": 4,
   "id": "e35230af-66ec-4607-a97b-127bd890fa59",
   "metadata": {},
   "outputs": [
    {
     "name": "stdout",
     "output_type": "stream",
     "text": [
      "Step 2: Load the data.\n"
     ]
    }
   ],
   "source": [
    "print('Step 2: Load the data.')\n",
    "\n",
    "queries = pt.io.read_topics(input_directory + '/queries.xml', format='trecxml')\n",
    "\n",
    "documents = [json.loads(i) for i in open(input_directory + '/documents.jsonl', 'r')]\n"
   ]
  },
  {
   "cell_type": "code",
   "execution_count": 6,
   "id": "7adc86e0",
   "metadata": {},
   "outputs": [
    {
     "name": "stdout",
     "output_type": "stream",
     "text": [
      "We look at the first document:\n",
      "\n",
      "{'docno': '2019.sigirconf_workshop-2019birndl.0', 'text': 'Proceedings of the 4th Joint Workshop on Bibliometric-enhanced Information Retrieval and Natural Language Processing for Digital Libraries (BIRNDL 2019) co-located with the 42nd International ACM SIGIR Conference on Research and Development in Information Retrieval (SIGIR 2019), Paris, France, July 25, 2019 ', 'original_document': {'doc_id': '2019.sigirconf_workshop-2019birndl.0', 'abstract': '', 'title': 'Proceedings of the 4th Joint Workshop on Bibliometric-enhanced Information Retrieval and Natural Language Processing for Digital Libraries (BIRNDL 2019) co-located with the 42nd International ACM SIGIR Conference on Research and Development in Information Retrieval (SIGIR 2019), Paris, France, July 25, 2019', 'authors': [], 'year': '2019', 'booktitle': 'Proceedings of the 4th Joint Workshop on Bibliometric-enhanced Information Retrieval and Natural Language Processing for Digital Libraries (BIRNDL 2019) co-located with the 42nd International ACM SIGIR Conference on Research and Development in Information Retrieval (SIGIR 2019), Paris, France, July 25, 2019'}}\n"
     ]
    }
   ],
   "source": [
    "print('We look at the first document:\\n')\n",
    "print(documents[0])"
   ]
  },
  {
   "cell_type": "code",
   "execution_count": 7,
   "id": "fdafebd0",
   "metadata": {},
   "outputs": [
    {
     "name": "stdout",
     "output_type": "stream",
     "text": [
      "We look at the first query:\n",
      "\n",
      "{'qid': '1', 'query': ' detect health related queries'}\n"
     ]
    }
   ],
   "source": [
    "print('We look at the first query:\\n')\n",
    "print(queries.iloc[0].to_dict())"
   ]
  },
  {
   "cell_type": "markdown",
   "id": "72655916-07fe-4c58-82c1-2f9f93381e7f",
   "metadata": {},
   "source": [
    "### Step 3: Create the Index"
   ]
  },
  {
   "cell_type": "code",
   "execution_count": 8,
   "id": "05ce062d-25e4-4c61-b6ce-9431b9f2bbd4",
   "metadata": {},
   "outputs": [
    {
     "name": "stdout",
     "output_type": "stream",
     "text": [
      "Step 3: Create the Index.\n"
     ]
    },
    {
     "name": "stderr",
     "output_type": "stream",
     "text": [
      " 32%|████████████████████████████████                                                                     | 17035/53673 [00:05<00:06, 5884.27it/s]"
     ]
    },
    {
     "name": "stdout",
     "output_type": "stream",
     "text": [
      "06:05:19.417 [ForkJoinPool-1-worker-3] WARN org.terrier.structures.indexing.Indexer - Adding an empty document to the index (2020.mir_conference-2020.1) - further warnings are suppressed\n"
     ]
    },
    {
     "name": "stderr",
     "output_type": "stream",
     "text": [
      "100%|█████████████████████████████████████████████████████████████████████████████████████████████████████| 53673/53673 [00:11<00:00, 4500.49it/s]\n"
     ]
    },
    {
     "name": "stdout",
     "output_type": "stream",
     "text": [
      "06:05:27.563 [ForkJoinPool-1-worker-3] WARN org.terrier.structures.indexing.Indexer - Indexed 3 empty documents\n"
     ]
    }
   ],
   "source": [
    "print('Step 3: Create the Index.')\n",
    "\n",
    "!rm -Rf ./index\n",
    "iter_indexer = pt.IterDictIndexer(\"./index\", meta={'docno' : 100})\n",
    "index_ref = iter_indexer.index(tqdm(documents))"
   ]
  },
  {
   "cell_type": "markdown",
   "id": "806c4638-ccee-4470-a74c-2a85d9ee2cfc",
   "metadata": {},
   "source": [
    "### Step 4: Create Retrieval Pipeline"
   ]
  },
  {
   "cell_type": "code",
   "execution_count": 9,
   "id": "642259bc",
   "metadata": {},
   "outputs": [],
   "source": [
    "bm25 = pt.BatchRetrieve(index_ref, wmodel=\"BM25\", verbose=True)"
   ]
  },
  {
   "cell_type": "markdown",
   "id": "5cb6607b",
   "metadata": {},
   "source": [
    "### Step 5: Create the run"
   ]
  },
  {
   "cell_type": "code",
   "execution_count": 10,
   "id": "a191f396-e896-4792-afaf-574e452640f5",
   "metadata": {},
   "outputs": [
    {
     "name": "stdout",
     "output_type": "stream",
     "text": [
      "Step 5: Create Run.\n"
     ]
    },
    {
     "name": "stderr",
     "output_type": "stream",
     "text": [
      "BR(BM25): 100%|██████████████████████████████████████████████████████████████████████████████████████████████████████| 4/4 [00:00<00:00,  9.34q/s]\n"
     ]
    }
   ],
   "source": [
    "print('Step 5: Create Run.')\n",
    "\n",
    "run = bm25(queries)"
   ]
  },
  {
   "cell_type": "code",
   "execution_count": 11,
   "id": "c0e07fca-de98-4de2-b6a7-abfd516c652c",
   "metadata": {},
   "outputs": [
    {
     "name": "stdout",
     "output_type": "stream",
     "text": [
      "We look at the first 10 results of the run:\n",
      "\n"
     ]
    },
    {
     "data": {
      "text/html": [
       "<div>\n",
       "<style scoped>\n",
       "    .dataframe tbody tr th:only-of-type {\n",
       "        vertical-align: middle;\n",
       "    }\n",
       "\n",
       "    .dataframe tbody tr th {\n",
       "        vertical-align: top;\n",
       "    }\n",
       "\n",
       "    .dataframe thead th {\n",
       "        text-align: right;\n",
       "    }\n",
       "</style>\n",
       "<table border=\"1\" class=\"dataframe\">\n",
       "  <thead>\n",
       "    <tr style=\"text-align: right;\">\n",
       "      <th></th>\n",
       "      <th>qid</th>\n",
       "      <th>docid</th>\n",
       "      <th>docno</th>\n",
       "      <th>rank</th>\n",
       "      <th>score</th>\n",
       "      <th>query</th>\n",
       "    </tr>\n",
       "  </thead>\n",
       "  <tbody>\n",
       "    <tr>\n",
       "      <th>0</th>\n",
       "      <td>1</td>\n",
       "      <td>49659</td>\n",
       "      <td>2021.ipm_journal-ir0anthology0volumeA58A1.6</td>\n",
       "      <td>0</td>\n",
       "      <td>16.708093</td>\n",
       "      <td>detect health related queries</td>\n",
       "    </tr>\n",
       "    <tr>\n",
       "      <th>1</th>\n",
       "      <td>1</td>\n",
       "      <td>27490</td>\n",
       "      <td>2011.spire_conference-2011.10</td>\n",
       "      <td>1</td>\n",
       "      <td>15.699445</td>\n",
       "      <td>detect health related queries</td>\n",
       "    </tr>\n",
       "    <tr>\n",
       "      <th>2</th>\n",
       "      <td>1</td>\n",
       "      <td>19930</td>\n",
       "      <td>2019.cikm_conference-2019.346</td>\n",
       "      <td>2</td>\n",
       "      <td>15.507586</td>\n",
       "      <td>detect health related queries</td>\n",
       "    </tr>\n",
       "    <tr>\n",
       "      <th>3</th>\n",
       "      <td>1</td>\n",
       "      <td>39429</td>\n",
       "      <td>2021.tist_journal-ir0anthology0volumeA12A2.4</td>\n",
       "      <td>3</td>\n",
       "      <td>15.137599</td>\n",
       "      <td>detect health related queries</td>\n",
       "    </tr>\n",
       "    <tr>\n",
       "      <th>4</th>\n",
       "      <td>1</td>\n",
       "      <td>33009</td>\n",
       "      <td>2013.wwwconf_conference-2013c.302</td>\n",
       "      <td>4</td>\n",
       "      <td>14.881860</td>\n",
       "      <td>detect health related queries</td>\n",
       "    </tr>\n",
       "    <tr>\n",
       "      <th>5</th>\n",
       "      <td>1</td>\n",
       "      <td>33172</td>\n",
       "      <td>2018.wwwconf_conference-2018.13</td>\n",
       "      <td>5</td>\n",
       "      <td>14.657232</td>\n",
       "      <td>detect health related queries</td>\n",
       "    </tr>\n",
       "    <tr>\n",
       "      <th>6</th>\n",
       "      <td>1</td>\n",
       "      <td>23061</td>\n",
       "      <td>2010.cikm_conference-2010.284</td>\n",
       "      <td>6</td>\n",
       "      <td>14.632242</td>\n",
       "      <td>detect health related queries</td>\n",
       "    </tr>\n",
       "    <tr>\n",
       "      <th>7</th>\n",
       "      <td>1</td>\n",
       "      <td>28878</td>\n",
       "      <td>2012.wwwconf_conference-2012c.37</td>\n",
       "      <td>7</td>\n",
       "      <td>14.615780</td>\n",
       "      <td>detect health related queries</td>\n",
       "    </tr>\n",
       "    <tr>\n",
       "      <th>8</th>\n",
       "      <td>1</td>\n",
       "      <td>14388</td>\n",
       "      <td>2016.fire_conference-2016w.51</td>\n",
       "      <td>8</td>\n",
       "      <td>14.587083</td>\n",
       "      <td>detect health related queries</td>\n",
       "    </tr>\n",
       "    <tr>\n",
       "      <th>9</th>\n",
       "      <td>1</td>\n",
       "      <td>13049</td>\n",
       "      <td>2020.clef_conference-2020w.101</td>\n",
       "      <td>9</td>\n",
       "      <td>14.474406</td>\n",
       "      <td>detect health related queries</td>\n",
       "    </tr>\n",
       "  </tbody>\n",
       "</table>\n",
       "</div>"
      ],
      "text/plain": [
       "  qid  docid                                         docno  rank      score  \\\n",
       "0   1  49659   2021.ipm_journal-ir0anthology0volumeA58A1.6     0  16.708093   \n",
       "1   1  27490                 2011.spire_conference-2011.10     1  15.699445   \n",
       "2   1  19930                 2019.cikm_conference-2019.346     2  15.507586   \n",
       "3   1  39429  2021.tist_journal-ir0anthology0volumeA12A2.4     3  15.137599   \n",
       "4   1  33009             2013.wwwconf_conference-2013c.302     4  14.881860   \n",
       "5   1  33172               2018.wwwconf_conference-2018.13     5  14.657232   \n",
       "6   1  23061                 2010.cikm_conference-2010.284     6  14.632242   \n",
       "7   1  28878              2012.wwwconf_conference-2012c.37     7  14.615780   \n",
       "8   1  14388                 2016.fire_conference-2016w.51     8  14.587083   \n",
       "9   1  13049                2020.clef_conference-2020w.101     9  14.474406   \n",
       "\n",
       "                            query  \n",
       "0   detect health related queries  \n",
       "1   detect health related queries  \n",
       "2   detect health related queries  \n",
       "3   detect health related queries  \n",
       "4   detect health related queries  \n",
       "5   detect health related queries  \n",
       "6   detect health related queries  \n",
       "7   detect health related queries  \n",
       "8   detect health related queries  \n",
       "9   detect health related queries  "
      ]
     },
     "execution_count": 11,
     "metadata": {},
     "output_type": "execute_result"
    }
   ],
   "source": [
    "print('We look at the first 10 results of the run:\\n')\n",
    "run.head(10)"
   ]
  },
  {
   "cell_type": "markdown",
   "id": "28c40a2e-0f96-4ae8-aa5e-55a5e7ef9dee",
   "metadata": {},
   "source": [
    "### Step 6: Persist Run"
   ]
  },
  {
   "cell_type": "code",
   "execution_count": 12,
   "id": "12e5bb42-ed1f-41ba-b7a5-cb43ebca96f6",
   "metadata": {},
   "outputs": [
    {
     "name": "stdout",
     "output_type": "stream",
     "text": [
      "Step 6: Persist Run.\n",
      "Done :)\n"
     ]
    }
   ],
   "source": [
    "print('Step 6: Persist Run.')\n",
    "\n",
    "persist_and_normalize_run(run, output_file=output_directory, system_name='BM25', depth=1000)\n",
    "\n",
    "print('Done :)')"
   ]
  }
 ],
 "metadata": {
  "kernelspec": {
   "display_name": "Python 3 (ipykernel)",
   "language": "python",
   "name": "python3"
  },
  "language_info": {
   "codemirror_mode": {
    "name": "ipython",
    "version": 3
   },
   "file_extension": ".py",
   "mimetype": "text/x-python",
   "name": "python",
   "nbconvert_exporter": "python",
   "pygments_lexer": "ipython3",
   "version": "3.7.13"
  }
 },
 "nbformat": 4,
 "nbformat_minor": 5
}
